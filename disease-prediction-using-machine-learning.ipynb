{
 "cells": [
  {
   "cell_type": "markdown",
   "metadata": {
    "papermill": {
     "duration": 0.030588,
     "end_time": "2021-03-29T22:30:39.620681",
     "exception": false,
     "start_time": "2021-03-29T22:30:39.590093",
     "status": "completed"
    },
    "tags": []
   },
   "source": [
    "# Overview \n",
    "[source](https://www.kaggle.com/uciml/pima-indians-diabetes-database)\n",
    "\n",
    "## Context\n",
    "This dataset is originally from the National Institute of Diabetes and Digestive and Kidney Diseases. The objective of the dataset is to diagnostically predict whether or not a patient has diabetes, based on certain diagnostic measurements included in the dataset. Several constraints were placed on the selection of these instances from a larger database. In particular, all patients here are females at least 21 years old of Pima Indian heritage.\n",
    "\n",
    "## Content\n",
    "The datasets consists of several medical predictor variables and one target variable, Outcome. Predictor variables includes the number of pregnancies the patient has had, their BMI, insulin level, age, and so on.\n",
    "<hr />\n",
    "\n",
    "<h2>Table of Content:</h2>\n",
    "\n",
    "### 1. Import Libraries and Data \n",
    "    1.1 Top 5 rows of data\n",
    "    1.2 Last 5 rows of data\n",
    "    1.3 Some Random Values from our data \n",
    "    1.4 Feature overview\n",
    "    \n",
    "### 2. Imputations <br />\n",
    "\n",
    "    2.1 Check For Null/Missing values<br>\n",
    "    2.2 Check For Outliers<br>\n",
    "    \n",
    "### 3. Exploratory data analysis <br />\n",
    "    \n",
    "### 4. Modeling<br />\n",
    "\n",
    "<hr />    \n",
    "<hr />"
   ]
  },
  {
   "cell_type": "markdown",
   "metadata": {
    "papermill": {
     "duration": 0.030099,
     "end_time": "2021-03-29T22:30:39.679885",
     "exception": false,
     "start_time": "2021-03-29T22:30:39.649786",
     "status": "completed"
    },
    "tags": []
   },
   "source": [
    "# Let's Start !\n",
    "# 1. Import Libraries and Data"
   ]
  },
  {
   "cell_type": "code",
   "execution_count": 1,
   "metadata": {
    "_cell_guid": "b1076dfc-b9ad-4769-8c92-a6c4dae69d19",
    "_uuid": "8f2839f25d086af736a60e9eeb907d3b93b6e0e5",
    "execution": {
     "iopub.execute_input": "2021-03-29T22:30:39.746501Z",
     "iopub.status.busy": "2021-03-29T22:30:39.745194Z",
     "iopub.status.idle": "2021-03-29T22:30:40.828945Z",
     "shell.execute_reply": "2021-03-29T22:30:40.829598Z"
    },
    "papermill": {
     "duration": 1.121355,
     "end_time": "2021-03-29T22:30:40.830007",
     "exception": false,
     "start_time": "2021-03-29T22:30:39.708652",
     "status": "completed"
    },
    "tags": []
   },
   "outputs": [
    {
     "name": "stdout",
     "output_type": "stream",
     "text": [
      "/kaggle/input/pima-indians-diabetes-database/diabetes.csv\n"
     ]
    }
   ],
   "source": [
    "import numpy as np # linear algebra\n",
    "import pandas as pd # data processing, CSV file I/O (e.g. pd.read_csv)\n",
    "\n",
    "from matplotlib import pyplot as plt\n",
    "import seaborn as sns\n",
    "\n",
    "import warnings\n",
    "warnings.filterwarnings(\"ignore\")\n",
    "\n",
    "import os\n",
    "for dirname, _, filenames in os.walk('/kaggle/input'):\n",
    "    for filename in filenames:\n",
    "        print(os.path.join(dirname, filename))\n"
   ]
  },
  {
   "cell_type": "code",
   "execution_count": 2,
   "metadata": {
    "execution": {
     "iopub.execute_input": "2021-03-29T22:30:40.895800Z",
     "iopub.status.busy": "2021-03-29T22:30:40.895054Z",
     "iopub.status.idle": "2021-03-29T22:30:40.916453Z",
     "shell.execute_reply": "2021-03-29T22:30:40.915811Z"
    },
    "papermill": {
     "duration": 0.05645,
     "end_time": "2021-03-29T22:30:40.916613",
     "exception": false,
     "start_time": "2021-03-29T22:30:40.860163",
     "status": "completed"
    },
    "tags": []
   },
   "outputs": [],
   "source": [
    "data = pd.read_csv('/kaggle/input/pima-indians-diabetes-database/diabetes.csv')"
   ]
  },
  {
   "cell_type": "markdown",
   "metadata": {
    "papermill": {
     "duration": 0.029924,
     "end_time": "2021-03-29T22:30:40.976117",
     "exception": false,
     "start_time": "2021-03-29T22:30:40.946193",
     "status": "completed"
    },
    "tags": []
   },
   "source": [
    "### 1.1 Top 5 rows of data "
   ]
  },
  {
   "cell_type": "code",
   "execution_count": 3,
   "metadata": {
    "execution": {
     "iopub.execute_input": "2021-03-29T22:30:41.052567Z",
     "iopub.status.busy": "2021-03-29T22:30:41.050778Z",
     "iopub.status.idle": "2021-03-29T22:30:41.077300Z",
     "shell.execute_reply": "2021-03-29T22:30:41.077899Z"
    },
    "papermill": {
     "duration": 0.07184,
     "end_time": "2021-03-29T22:30:41.078114",
     "exception": false,
     "start_time": "2021-03-29T22:30:41.006274",
     "status": "completed"
    },
    "tags": []
   },
   "outputs": [
    {
     "data": {
      "text/html": [
       "<div>\n",
       "<style scoped>\n",
       "    .dataframe tbody tr th:only-of-type {\n",
       "        vertical-align: middle;\n",
       "    }\n",
       "\n",
       "    .dataframe tbody tr th {\n",
       "        vertical-align: top;\n",
       "    }\n",
       "\n",
       "    .dataframe thead th {\n",
       "        text-align: right;\n",
       "    }\n",
       "</style>\n",
       "<table border=\"1\" class=\"dataframe\">\n",
       "  <thead>\n",
       "    <tr style=\"text-align: right;\">\n",
       "      <th></th>\n",
       "      <th>Pregnancies</th>\n",
       "      <th>Glucose</th>\n",
       "      <th>BloodPressure</th>\n",
       "      <th>SkinThickness</th>\n",
       "      <th>Insulin</th>\n",
       "      <th>BMI</th>\n",
       "      <th>DiabetesPedigreeFunction</th>\n",
       "      <th>Age</th>\n",
       "      <th>Outcome</th>\n",
       "    </tr>\n",
       "  </thead>\n",
       "  <tbody>\n",
       "    <tr>\n",
       "      <th>0</th>\n",
       "      <td>6</td>\n",
       "      <td>148</td>\n",
       "      <td>72</td>\n",
       "      <td>35</td>\n",
       "      <td>0</td>\n",
       "      <td>33.6</td>\n",
       "      <td>0.627</td>\n",
       "      <td>50</td>\n",
       "      <td>1</td>\n",
       "    </tr>\n",
       "    <tr>\n",
       "      <th>1</th>\n",
       "      <td>1</td>\n",
       "      <td>85</td>\n",
       "      <td>66</td>\n",
       "      <td>29</td>\n",
       "      <td>0</td>\n",
       "      <td>26.6</td>\n",
       "      <td>0.351</td>\n",
       "      <td>31</td>\n",
       "      <td>0</td>\n",
       "    </tr>\n",
       "    <tr>\n",
       "      <th>2</th>\n",
       "      <td>8</td>\n",
       "      <td>183</td>\n",
       "      <td>64</td>\n",
       "      <td>0</td>\n",
       "      <td>0</td>\n",
       "      <td>23.3</td>\n",
       "      <td>0.672</td>\n",
       "      <td>32</td>\n",
       "      <td>1</td>\n",
       "    </tr>\n",
       "    <tr>\n",
       "      <th>3</th>\n",
       "      <td>1</td>\n",
       "      <td>89</td>\n",
       "      <td>66</td>\n",
       "      <td>23</td>\n",
       "      <td>94</td>\n",
       "      <td>28.1</td>\n",
       "      <td>0.167</td>\n",
       "      <td>21</td>\n",
       "      <td>0</td>\n",
       "    </tr>\n",
       "    <tr>\n",
       "      <th>4</th>\n",
       "      <td>0</td>\n",
       "      <td>137</td>\n",
       "      <td>40</td>\n",
       "      <td>35</td>\n",
       "      <td>168</td>\n",
       "      <td>43.1</td>\n",
       "      <td>2.288</td>\n",
       "      <td>33</td>\n",
       "      <td>1</td>\n",
       "    </tr>\n",
       "  </tbody>\n",
       "</table>\n",
       "</div>"
      ],
      "text/plain": [
       "   Pregnancies  Glucose  BloodPressure  SkinThickness  Insulin   BMI  \\\n",
       "0            6      148             72             35        0  33.6   \n",
       "1            1       85             66             29        0  26.6   \n",
       "2            8      183             64              0        0  23.3   \n",
       "3            1       89             66             23       94  28.1   \n",
       "4            0      137             40             35      168  43.1   \n",
       "\n",
       "   DiabetesPedigreeFunction  Age  Outcome  \n",
       "0                     0.627   50        1  \n",
       "1                     0.351   31        0  \n",
       "2                     0.672   32        1  \n",
       "3                     0.167   21        0  \n",
       "4                     2.288   33        1  "
      ]
     },
     "execution_count": 3,
     "metadata": {},
     "output_type": "execute_result"
    }
   ],
   "source": [
    "data.head()"
   ]
  },
  {
   "cell_type": "markdown",
   "metadata": {
    "papermill": {
     "duration": 0.030751,
     "end_time": "2021-03-29T22:30:41.140428",
     "exception": false,
     "start_time": "2021-03-29T22:30:41.109677",
     "status": "completed"
    },
    "tags": []
   },
   "source": [
    "### 1.2 Last 5 rows of data"
   ]
  },
  {
   "cell_type": "code",
   "execution_count": 4,
   "metadata": {
    "execution": {
     "iopub.execute_input": "2021-03-29T22:30:41.215612Z",
     "iopub.status.busy": "2021-03-29T22:30:41.214526Z",
     "iopub.status.idle": "2021-03-29T22:30:41.219360Z",
     "shell.execute_reply": "2021-03-29T22:30:41.218867Z"
    },
    "papermill": {
     "duration": 0.048447,
     "end_time": "2021-03-29T22:30:41.219524",
     "exception": false,
     "start_time": "2021-03-29T22:30:41.171077",
     "status": "completed"
    },
    "tags": []
   },
   "outputs": [
    {
     "data": {
      "text/html": [
       "<div>\n",
       "<style scoped>\n",
       "    .dataframe tbody tr th:only-of-type {\n",
       "        vertical-align: middle;\n",
       "    }\n",
       "\n",
       "    .dataframe tbody tr th {\n",
       "        vertical-align: top;\n",
       "    }\n",
       "\n",
       "    .dataframe thead th {\n",
       "        text-align: right;\n",
       "    }\n",
       "</style>\n",
       "<table border=\"1\" class=\"dataframe\">\n",
       "  <thead>\n",
       "    <tr style=\"text-align: right;\">\n",
       "      <th></th>\n",
       "      <th>Pregnancies</th>\n",
       "      <th>Glucose</th>\n",
       "      <th>BloodPressure</th>\n",
       "      <th>SkinThickness</th>\n",
       "      <th>Insulin</th>\n",
       "      <th>BMI</th>\n",
       "      <th>DiabetesPedigreeFunction</th>\n",
       "      <th>Age</th>\n",
       "      <th>Outcome</th>\n",
       "    </tr>\n",
       "  </thead>\n",
       "  <tbody>\n",
       "    <tr>\n",
       "      <th>763</th>\n",
       "      <td>10</td>\n",
       "      <td>101</td>\n",
       "      <td>76</td>\n",
       "      <td>48</td>\n",
       "      <td>180</td>\n",
       "      <td>32.9</td>\n",
       "      <td>0.171</td>\n",
       "      <td>63</td>\n",
       "      <td>0</td>\n",
       "    </tr>\n",
       "    <tr>\n",
       "      <th>764</th>\n",
       "      <td>2</td>\n",
       "      <td>122</td>\n",
       "      <td>70</td>\n",
       "      <td>27</td>\n",
       "      <td>0</td>\n",
       "      <td>36.8</td>\n",
       "      <td>0.340</td>\n",
       "      <td>27</td>\n",
       "      <td>0</td>\n",
       "    </tr>\n",
       "    <tr>\n",
       "      <th>765</th>\n",
       "      <td>5</td>\n",
       "      <td>121</td>\n",
       "      <td>72</td>\n",
       "      <td>23</td>\n",
       "      <td>112</td>\n",
       "      <td>26.2</td>\n",
       "      <td>0.245</td>\n",
       "      <td>30</td>\n",
       "      <td>0</td>\n",
       "    </tr>\n",
       "    <tr>\n",
       "      <th>766</th>\n",
       "      <td>1</td>\n",
       "      <td>126</td>\n",
       "      <td>60</td>\n",
       "      <td>0</td>\n",
       "      <td>0</td>\n",
       "      <td>30.1</td>\n",
       "      <td>0.349</td>\n",
       "      <td>47</td>\n",
       "      <td>1</td>\n",
       "    </tr>\n",
       "    <tr>\n",
       "      <th>767</th>\n",
       "      <td>1</td>\n",
       "      <td>93</td>\n",
       "      <td>70</td>\n",
       "      <td>31</td>\n",
       "      <td>0</td>\n",
       "      <td>30.4</td>\n",
       "      <td>0.315</td>\n",
       "      <td>23</td>\n",
       "      <td>0</td>\n",
       "    </tr>\n",
       "  </tbody>\n",
       "</table>\n",
       "</div>"
      ],
      "text/plain": [
       "     Pregnancies  Glucose  BloodPressure  SkinThickness  Insulin   BMI  \\\n",
       "763           10      101             76             48      180  32.9   \n",
       "764            2      122             70             27        0  36.8   \n",
       "765            5      121             72             23      112  26.2   \n",
       "766            1      126             60              0        0  30.1   \n",
       "767            1       93             70             31        0  30.4   \n",
       "\n",
       "     DiabetesPedigreeFunction  Age  Outcome  \n",
       "763                     0.171   63        0  \n",
       "764                     0.340   27        0  \n",
       "765                     0.245   30        0  \n",
       "766                     0.349   47        1  \n",
       "767                     0.315   23        0  "
      ]
     },
     "execution_count": 4,
     "metadata": {},
     "output_type": "execute_result"
    }
   ],
   "source": [
    "data.tail()"
   ]
  },
  {
   "cell_type": "markdown",
   "metadata": {
    "papermill": {
     "duration": 0.031706,
     "end_time": "2021-03-29T22:30:41.282179",
     "exception": false,
     "start_time": "2021-03-29T22:30:41.250473",
     "status": "completed"
    },
    "tags": []
   },
   "source": [
    "### 1.3 Some Random Values from our data"
   ]
  },
  {
   "cell_type": "code",
   "execution_count": 5,
   "metadata": {
    "execution": {
     "iopub.execute_input": "2021-03-29T22:30:41.362209Z",
     "iopub.status.busy": "2021-03-29T22:30:41.361345Z",
     "iopub.status.idle": "2021-03-29T22:30:41.365377Z",
     "shell.execute_reply": "2021-03-29T22:30:41.365937Z"
    },
    "papermill": {
     "duration": 0.052425,
     "end_time": "2021-03-29T22:30:41.366121",
     "exception": false,
     "start_time": "2021-03-29T22:30:41.313696",
     "status": "completed"
    },
    "tags": []
   },
   "outputs": [
    {
     "data": {
      "text/html": [
       "<div>\n",
       "<style scoped>\n",
       "    .dataframe tbody tr th:only-of-type {\n",
       "        vertical-align: middle;\n",
       "    }\n",
       "\n",
       "    .dataframe tbody tr th {\n",
       "        vertical-align: top;\n",
       "    }\n",
       "\n",
       "    .dataframe thead th {\n",
       "        text-align: right;\n",
       "    }\n",
       "</style>\n",
       "<table border=\"1\" class=\"dataframe\">\n",
       "  <thead>\n",
       "    <tr style=\"text-align: right;\">\n",
       "      <th></th>\n",
       "      <th>Pregnancies</th>\n",
       "      <th>Glucose</th>\n",
       "      <th>BloodPressure</th>\n",
       "      <th>SkinThickness</th>\n",
       "      <th>Insulin</th>\n",
       "      <th>BMI</th>\n",
       "      <th>DiabetesPedigreeFunction</th>\n",
       "      <th>Age</th>\n",
       "      <th>Outcome</th>\n",
       "    </tr>\n",
       "  </thead>\n",
       "  <tbody>\n",
       "    <tr>\n",
       "      <th>634</th>\n",
       "      <td>10</td>\n",
       "      <td>92</td>\n",
       "      <td>62</td>\n",
       "      <td>0</td>\n",
       "      <td>0</td>\n",
       "      <td>25.9</td>\n",
       "      <td>0.167</td>\n",
       "      <td>31</td>\n",
       "      <td>0</td>\n",
       "    </tr>\n",
       "    <tr>\n",
       "      <th>765</th>\n",
       "      <td>5</td>\n",
       "      <td>121</td>\n",
       "      <td>72</td>\n",
       "      <td>23</td>\n",
       "      <td>112</td>\n",
       "      <td>26.2</td>\n",
       "      <td>0.245</td>\n",
       "      <td>30</td>\n",
       "      <td>0</td>\n",
       "    </tr>\n",
       "    <tr>\n",
       "      <th>446</th>\n",
       "      <td>1</td>\n",
       "      <td>100</td>\n",
       "      <td>72</td>\n",
       "      <td>12</td>\n",
       "      <td>70</td>\n",
       "      <td>25.3</td>\n",
       "      <td>0.658</td>\n",
       "      <td>28</td>\n",
       "      <td>0</td>\n",
       "    </tr>\n",
       "    <tr>\n",
       "      <th>29</th>\n",
       "      <td>5</td>\n",
       "      <td>117</td>\n",
       "      <td>92</td>\n",
       "      <td>0</td>\n",
       "      <td>0</td>\n",
       "      <td>34.1</td>\n",
       "      <td>0.337</td>\n",
       "      <td>38</td>\n",
       "      <td>0</td>\n",
       "    </tr>\n",
       "    <tr>\n",
       "      <th>569</th>\n",
       "      <td>0</td>\n",
       "      <td>121</td>\n",
       "      <td>66</td>\n",
       "      <td>30</td>\n",
       "      <td>165</td>\n",
       "      <td>34.3</td>\n",
       "      <td>0.203</td>\n",
       "      <td>33</td>\n",
       "      <td>1</td>\n",
       "    </tr>\n",
       "  </tbody>\n",
       "</table>\n",
       "</div>"
      ],
      "text/plain": [
       "     Pregnancies  Glucose  BloodPressure  SkinThickness  Insulin   BMI  \\\n",
       "634           10       92             62              0        0  25.9   \n",
       "765            5      121             72             23      112  26.2   \n",
       "446            1      100             72             12       70  25.3   \n",
       "29             5      117             92              0        0  34.1   \n",
       "569            0      121             66             30      165  34.3   \n",
       "\n",
       "     DiabetesPedigreeFunction  Age  Outcome  \n",
       "634                     0.167   31        0  \n",
       "765                     0.245   30        0  \n",
       "446                     0.658   28        0  \n",
       "29                      0.337   38        0  \n",
       "569                     0.203   33        1  "
      ]
     },
     "execution_count": 5,
     "metadata": {},
     "output_type": "execute_result"
    }
   ],
   "source": [
    "data.sample(5)"
   ]
  },
  {
   "cell_type": "markdown",
   "metadata": {
    "papermill": {
     "duration": 0.031088,
     "end_time": "2021-03-29T22:30:41.429086",
     "exception": false,
     "start_time": "2021-03-29T22:30:41.397998",
     "status": "completed"
    },
    "tags": []
   },
   "source": [
    "### 1.4 Feature overview"
   ]
  },
  {
   "cell_type": "code",
   "execution_count": 6,
   "metadata": {
    "execution": {
     "iopub.execute_input": "2021-03-29T22:30:41.497651Z",
     "iopub.status.busy": "2021-03-29T22:30:41.496955Z",
     "iopub.status.idle": "2021-03-29T22:30:41.500281Z",
     "shell.execute_reply": "2021-03-29T22:30:41.500771Z"
    },
    "papermill": {
     "duration": 0.040581,
     "end_time": "2021-03-29T22:30:41.500945",
     "exception": false,
     "start_time": "2021-03-29T22:30:41.460364",
     "status": "completed"
    },
    "tags": []
   },
   "outputs": [
    {
     "data": {
      "text/plain": [
       "((768, 9), 6912)"
      ]
     },
     "execution_count": 6,
     "metadata": {},
     "output_type": "execute_result"
    }
   ],
   "source": [
    "data.shape,data.size"
   ]
  },
  {
   "cell_type": "markdown",
   "metadata": {
    "papermill": {
     "duration": 0.032058,
     "end_time": "2021-03-29T22:30:41.565380",
     "exception": false,
     "start_time": "2021-03-29T22:30:41.533322",
     "status": "completed"
    },
    "tags": []
   },
   "source": [
    "    So our data have 768 rows and 9 columns, with a total size of 6912 cells in it."
   ]
  },
  {
   "cell_type": "code",
   "execution_count": 7,
   "metadata": {
    "execution": {
     "iopub.execute_input": "2021-03-29T22:30:41.640064Z",
     "iopub.status.busy": "2021-03-29T22:30:41.639242Z",
     "iopub.status.idle": "2021-03-29T22:30:41.679480Z",
     "shell.execute_reply": "2021-03-29T22:30:41.680061Z"
    },
    "papermill": {
     "duration": 0.077431,
     "end_time": "2021-03-29T22:30:41.680231",
     "exception": false,
     "start_time": "2021-03-29T22:30:41.602800",
     "status": "completed"
    },
    "tags": []
   },
   "outputs": [
    {
     "data": {
      "text/html": [
       "<div>\n",
       "<style scoped>\n",
       "    .dataframe tbody tr th:only-of-type {\n",
       "        vertical-align: middle;\n",
       "    }\n",
       "\n",
       "    .dataframe tbody tr th {\n",
       "        vertical-align: top;\n",
       "    }\n",
       "\n",
       "    .dataframe thead th {\n",
       "        text-align: right;\n",
       "    }\n",
       "</style>\n",
       "<table border=\"1\" class=\"dataframe\">\n",
       "  <thead>\n",
       "    <tr style=\"text-align: right;\">\n",
       "      <th></th>\n",
       "      <th>Pregnancies</th>\n",
       "      <th>Glucose</th>\n",
       "      <th>BloodPressure</th>\n",
       "      <th>SkinThickness</th>\n",
       "      <th>Insulin</th>\n",
       "      <th>BMI</th>\n",
       "      <th>DiabetesPedigreeFunction</th>\n",
       "      <th>Age</th>\n",
       "      <th>Outcome</th>\n",
       "    </tr>\n",
       "  </thead>\n",
       "  <tbody>\n",
       "    <tr>\n",
       "      <th>count</th>\n",
       "      <td>768.000000</td>\n",
       "      <td>768.000000</td>\n",
       "      <td>768.000000</td>\n",
       "      <td>768.000000</td>\n",
       "      <td>768.000000</td>\n",
       "      <td>768.000000</td>\n",
       "      <td>768.000000</td>\n",
       "      <td>768.000000</td>\n",
       "      <td>768.000000</td>\n",
       "    </tr>\n",
       "    <tr>\n",
       "      <th>mean</th>\n",
       "      <td>3.845052</td>\n",
       "      <td>120.894531</td>\n",
       "      <td>69.105469</td>\n",
       "      <td>20.536458</td>\n",
       "      <td>79.799479</td>\n",
       "      <td>31.992578</td>\n",
       "      <td>0.471876</td>\n",
       "      <td>33.240885</td>\n",
       "      <td>0.348958</td>\n",
       "    </tr>\n",
       "    <tr>\n",
       "      <th>std</th>\n",
       "      <td>3.369578</td>\n",
       "      <td>31.972618</td>\n",
       "      <td>19.355807</td>\n",
       "      <td>15.952218</td>\n",
       "      <td>115.244002</td>\n",
       "      <td>7.884160</td>\n",
       "      <td>0.331329</td>\n",
       "      <td>11.760232</td>\n",
       "      <td>0.476951</td>\n",
       "    </tr>\n",
       "    <tr>\n",
       "      <th>min</th>\n",
       "      <td>0.000000</td>\n",
       "      <td>0.000000</td>\n",
       "      <td>0.000000</td>\n",
       "      <td>0.000000</td>\n",
       "      <td>0.000000</td>\n",
       "      <td>0.000000</td>\n",
       "      <td>0.078000</td>\n",
       "      <td>21.000000</td>\n",
       "      <td>0.000000</td>\n",
       "    </tr>\n",
       "    <tr>\n",
       "      <th>25%</th>\n",
       "      <td>1.000000</td>\n",
       "      <td>99.000000</td>\n",
       "      <td>62.000000</td>\n",
       "      <td>0.000000</td>\n",
       "      <td>0.000000</td>\n",
       "      <td>27.300000</td>\n",
       "      <td>0.243750</td>\n",
       "      <td>24.000000</td>\n",
       "      <td>0.000000</td>\n",
       "    </tr>\n",
       "    <tr>\n",
       "      <th>50%</th>\n",
       "      <td>3.000000</td>\n",
       "      <td>117.000000</td>\n",
       "      <td>72.000000</td>\n",
       "      <td>23.000000</td>\n",
       "      <td>30.500000</td>\n",
       "      <td>32.000000</td>\n",
       "      <td>0.372500</td>\n",
       "      <td>29.000000</td>\n",
       "      <td>0.000000</td>\n",
       "    </tr>\n",
       "    <tr>\n",
       "      <th>75%</th>\n",
       "      <td>6.000000</td>\n",
       "      <td>140.250000</td>\n",
       "      <td>80.000000</td>\n",
       "      <td>32.000000</td>\n",
       "      <td>127.250000</td>\n",
       "      <td>36.600000</td>\n",
       "      <td>0.626250</td>\n",
       "      <td>41.000000</td>\n",
       "      <td>1.000000</td>\n",
       "    </tr>\n",
       "    <tr>\n",
       "      <th>max</th>\n",
       "      <td>17.000000</td>\n",
       "      <td>199.000000</td>\n",
       "      <td>122.000000</td>\n",
       "      <td>99.000000</td>\n",
       "      <td>846.000000</td>\n",
       "      <td>67.100000</td>\n",
       "      <td>2.420000</td>\n",
       "      <td>81.000000</td>\n",
       "      <td>1.000000</td>\n",
       "    </tr>\n",
       "  </tbody>\n",
       "</table>\n",
       "</div>"
      ],
      "text/plain": [
       "       Pregnancies     Glucose  BloodPressure  SkinThickness     Insulin  \\\n",
       "count   768.000000  768.000000     768.000000     768.000000  768.000000   \n",
       "mean      3.845052  120.894531      69.105469      20.536458   79.799479   \n",
       "std       3.369578   31.972618      19.355807      15.952218  115.244002   \n",
       "min       0.000000    0.000000       0.000000       0.000000    0.000000   \n",
       "25%       1.000000   99.000000      62.000000       0.000000    0.000000   \n",
       "50%       3.000000  117.000000      72.000000      23.000000   30.500000   \n",
       "75%       6.000000  140.250000      80.000000      32.000000  127.250000   \n",
       "max      17.000000  199.000000     122.000000      99.000000  846.000000   \n",
       "\n",
       "              BMI  DiabetesPedigreeFunction         Age     Outcome  \n",
       "count  768.000000                768.000000  768.000000  768.000000  \n",
       "mean    31.992578                  0.471876   33.240885    0.348958  \n",
       "std      7.884160                  0.331329   11.760232    0.476951  \n",
       "min      0.000000                  0.078000   21.000000    0.000000  \n",
       "25%     27.300000                  0.243750   24.000000    0.000000  \n",
       "50%     32.000000                  0.372500   29.000000    0.000000  \n",
       "75%     36.600000                  0.626250   41.000000    1.000000  \n",
       "max     67.100000                  2.420000   81.000000    1.000000  "
      ]
     },
     "execution_count": 7,
     "metadata": {},
     "output_type": "execute_result"
    }
   ],
   "source": [
    "data.describe()"
   ]
  },
  {
   "cell_type": "code",
   "execution_count": 8,
   "metadata": {
    "execution": {
     "iopub.execute_input": "2021-03-29T22:30:41.749171Z",
     "iopub.status.busy": "2021-03-29T22:30:41.748491Z",
     "iopub.status.idle": "2021-03-29T22:30:41.769254Z",
     "shell.execute_reply": "2021-03-29T22:30:41.768212Z"
    },
    "papermill": {
     "duration": 0.056561,
     "end_time": "2021-03-29T22:30:41.769502",
     "exception": false,
     "start_time": "2021-03-29T22:30:41.712941",
     "status": "completed"
    },
    "tags": []
   },
   "outputs": [
    {
     "name": "stdout",
     "output_type": "stream",
     "text": [
      "<class 'pandas.core.frame.DataFrame'>\n",
      "RangeIndex: 768 entries, 0 to 767\n",
      "Data columns (total 9 columns):\n",
      " #   Column                    Non-Null Count  Dtype  \n",
      "---  ------                    --------------  -----  \n",
      " 0   Pregnancies               768 non-null    int64  \n",
      " 1   Glucose                   768 non-null    int64  \n",
      " 2   BloodPressure             768 non-null    int64  \n",
      " 3   SkinThickness             768 non-null    int64  \n",
      " 4   Insulin                   768 non-null    int64  \n",
      " 5   BMI                       768 non-null    float64\n",
      " 6   DiabetesPedigreeFunction  768 non-null    float64\n",
      " 7   Age                       768 non-null    int64  \n",
      " 8   Outcome                   768 non-null    int64  \n",
      "dtypes: float64(2), int64(7)\n",
      "memory usage: 54.1 KB\n"
     ]
    }
   ],
   "source": [
    "data.info()"
   ]
  },
  {
   "cell_type": "markdown",
   "metadata": {
    "papermill": {
     "duration": 0.034044,
     "end_time": "2021-03-29T22:30:41.837258",
     "exception": false,
     "start_time": "2021-03-29T22:30:41.803214",
     "status": "completed"
    },
    "tags": []
   },
   "source": [
    "    From above we can see that none of our column in object or text. (only int and float)\n",
    "    \n",
    "    We can compute and visualize this data easily."
   ]
  },
  {
   "cell_type": "markdown",
   "metadata": {
    "papermill": {
     "duration": 0.032794,
     "end_time": "2021-03-29T22:30:41.903948",
     "exception": false,
     "start_time": "2021-03-29T22:30:41.871154",
     "status": "completed"
    },
    "tags": []
   },
   "source": [
    "# 2. Imputations"
   ]
  },
  {
   "cell_type": "markdown",
   "metadata": {
    "papermill": {
     "duration": 0.033685,
     "end_time": "2021-03-29T22:30:41.970551",
     "exception": false,
     "start_time": "2021-03-29T22:30:41.936866",
     "status": "completed"
    },
    "tags": []
   },
   "source": [
    "### 2.1 Check For Null/Missing values"
   ]
  },
  {
   "cell_type": "code",
   "execution_count": 9,
   "metadata": {
    "execution": {
     "iopub.execute_input": "2021-03-29T22:30:42.045458Z",
     "iopub.status.busy": "2021-03-29T22:30:42.044424Z",
     "iopub.status.idle": "2021-03-29T22:30:42.048614Z",
     "shell.execute_reply": "2021-03-29T22:30:42.048112Z"
    },
    "papermill": {
     "duration": 0.045396,
     "end_time": "2021-03-29T22:30:42.048767",
     "exception": false,
     "start_time": "2021-03-29T22:30:42.003371",
     "status": "completed"
    },
    "tags": []
   },
   "outputs": [
    {
     "data": {
      "text/plain": [
       "Pregnancies                 0\n",
       "Glucose                     0\n",
       "BloodPressure               0\n",
       "SkinThickness               0\n",
       "Insulin                     0\n",
       "BMI                         0\n",
       "DiabetesPedigreeFunction    0\n",
       "Age                         0\n",
       "Outcome                     0\n",
       "dtype: int64"
      ]
     },
     "execution_count": 9,
     "metadata": {},
     "output_type": "execute_result"
    }
   ],
   "source": [
    "data.isnull().sum()"
   ]
  },
  {
   "cell_type": "markdown",
   "metadata": {
    "papermill": {
     "duration": 0.033215,
     "end_time": "2021-03-29T22:30:42.116339",
     "exception": false,
     "start_time": "2021-03-29T22:30:42.083124",
     "status": "completed"
    },
    "tags": []
   },
   "source": [
    "    So we do not have any null/missing value. Wow, thats great, now lets check for some outliers."
   ]
  },
  {
   "cell_type": "markdown",
   "metadata": {
    "papermill": {
     "duration": 0.033069,
     "end_time": "2021-03-29T22:30:42.182976",
     "exception": false,
     "start_time": "2021-03-29T22:30:42.149907",
     "status": "completed"
    },
    "tags": []
   },
   "source": [
    "### 2.2 Searching for Outliers."
   ]
  },
  {
   "cell_type": "code",
   "execution_count": 10,
   "metadata": {
    "execution": {
     "iopub.execute_input": "2021-03-29T22:30:42.275803Z",
     "iopub.status.busy": "2021-03-29T22:30:42.271238Z",
     "iopub.status.idle": "2021-03-29T22:30:42.544775Z",
     "shell.execute_reply": "2021-03-29T22:30:42.544204Z"
    },
    "papermill": {
     "duration": 0.328319,
     "end_time": "2021-03-29T22:30:42.544933",
     "exception": false,
     "start_time": "2021-03-29T22:30:42.216614",
     "status": "completed"
    },
    "tags": []
   },
   "outputs": [
    {
     "data": {
      "image/png": "[encoded data removed]",
      "text/plain": [
       "<Figure size 1152x504 with 1 Axes>"
      ]
     },
     "metadata": {
      "needs_background": "light"
     },
     "output_type": "display_data"
    }
   ],
   "source": [
    "fig,ax=plt.subplots(1,1,figsize=(16,7))\n",
    "ax.boxplot(data)\n",
    "plt.show()"
   ]
  },
  {
   "cell_type": "markdown",
   "metadata": {
    "papermill": {
     "duration": 0.047163,
     "end_time": "2021-03-29T22:30:42.627718",
     "exception": false,
     "start_time": "2021-03-29T22:30:42.580555",
     "status": "completed"
    },
    "tags": []
   },
   "source": [
    "     So we have some outliers in column 5 i.e BMI column.\n",
    "     Come let's fix this."
   ]
  },
  {
   "cell_type": "code",
   "execution_count": 11,
   "metadata": {
    "execution": {
     "iopub.execute_input": "2021-03-29T22:30:42.717317Z",
     "iopub.status.busy": "2021-03-29T22:30:42.716616Z",
     "iopub.status.idle": "2021-03-29T22:30:42.722038Z",
     "shell.execute_reply": "2021-03-29T22:30:42.722605Z"
    },
    "papermill": {
     "duration": 0.05703,
     "end_time": "2021-03-29T22:30:42.722814",
     "exception": false,
     "start_time": "2021-03-29T22:30:42.665784",
     "status": "completed"
    },
    "tags": []
   },
   "outputs": [
    {
     "data": {
      "text/plain": [
       "(67.1,\n",
       " 0.0,\n",
       " 31.992578124999977,\n",
       " 0    32.0\n",
       " dtype: float64)"
      ]
     },
     "execution_count": 11,
     "metadata": {},
     "output_type": "execute_result"
    }
   ],
   "source": [
    "data['BMI'].max(),data['BMI'].min(),data['BMI'].mean(),data['BMI'].mode()"
   ]
  },
  {
   "cell_type": "markdown",
   "metadata": {
    "papermill": {
     "duration": 0.036639,
     "end_time": "2021-03-29T22:30:42.815008",
     "exception": false,
     "start_time": "2021-03-29T22:30:42.778369",
     "status": "completed"
    },
    "tags": []
   },
   "source": [
    "     I will be using Interquartile range method for pointing out the outliers, \n",
    "     as in this we choose all the data between 15% and 85% rest data we can drop."
   ]
  },
  {
   "cell_type": "code",
   "execution_count": 12,
   "metadata": {
    "execution": {
     "iopub.execute_input": "2021-03-29T22:30:42.892582Z",
     "iopub.status.busy": "2021-03-29T22:30:42.891894Z",
     "iopub.status.idle": "2021-03-29T22:30:42.898135Z",
     "shell.execute_reply": "2021-03-29T22:30:42.898641Z"
    },
    "papermill": {
     "duration": 0.047231,
     "end_time": "2021-03-29T22:30:42.898850",
     "exception": false,
     "start_time": "2021-03-29T22:30:42.851619",
     "status": "completed"
    },
    "tags": []
   },
   "outputs": [
    {
     "name": "stdout",
     "output_type": "stream",
     "text": [
      "Q1 =  24.85\n",
      "Q3 =  39.25\n",
      "14.399999999999999\n"
     ]
    }
   ],
   "source": [
    "# First quartile (Q1) \n",
    "Q1 = np.percentile(data['BMI'], 15, interpolation = 'midpoint') \n",
    "  \n",
    "# Third quartile (Q3) \n",
    "Q3 = np.percentile(data['BMI'], 85, interpolation = 'midpoint') \n",
    "  \n",
    "# Interquaritle range (IQR) \n",
    "IQR = Q3 - Q1 \n",
    "print(\"Q1 = \",Q1)\n",
    "print(\"Q3 = \",Q3)\n",
    "print(IQR) "
   ]
  },
  {
   "cell_type": "code",
   "execution_count": 13,
   "metadata": {
    "execution": {
     "iopub.execute_input": "2021-03-29T22:30:42.973886Z",
     "iopub.status.busy": "2021-03-29T22:30:42.972881Z",
     "iopub.status.idle": "2021-03-29T22:30:43.087210Z",
     "shell.execute_reply": "2021-03-29T22:30:43.087856Z"
    },
    "papermill": {
     "duration": 0.153829,
     "end_time": "2021-03-29T22:30:43.088051",
     "exception": false,
     "start_time": "2021-03-29T22:30:42.934222",
     "status": "completed"
    },
    "tags": []
   },
   "outputs": [
    {
     "data": {
      "text/plain": [
       "(116, 116)"
      ]
     },
     "execution_count": 13,
     "metadata": {},
     "output_type": "execute_result"
    }
   ],
   "source": [
    "(data['BMI']>Q3).sum(),(data['BMI']<Q1).sum()"
   ]
  },
  {
   "cell_type": "markdown",
   "metadata": {
    "papermill": {
     "duration": 0.035572,
     "end_time": "2021-03-29T22:30:43.159516",
     "exception": false,
     "start_time": "2021-03-29T22:30:43.123944",
     "status": "completed"
    },
    "tags": []
   },
   "source": [
    "    Here we can see that we have alot data left from these quaritile values.(204 and we can not ignore such large data)\n",
    "    \n",
    "    So I manually checked for the outliers and got that we have most outliers after 99% of data,\n",
    "    means only 1% data contains outliers so lets drop them.  "
   ]
  },
  {
   "cell_type": "code",
   "execution_count": 14,
   "metadata": {
    "execution": {
     "iopub.execute_input": "2021-03-29T22:30:43.235875Z",
     "iopub.status.busy": "2021-03-29T22:30:43.234900Z",
     "iopub.status.idle": "2021-03-29T22:30:43.241551Z",
     "shell.execute_reply": "2021-03-29T22:30:43.241985Z"
    },
    "papermill": {
     "duration": 0.046111,
     "end_time": "2021-03-29T22:30:43.242169",
     "exception": false,
     "start_time": "2021-03-29T22:30:43.196058",
     "status": "completed"
    },
    "tags": []
   },
   "outputs": [
    {
     "data": {
      "text/plain": [
       "49.05"
      ]
     },
     "execution_count": 14,
     "metadata": {},
     "output_type": "execute_result"
    }
   ],
   "source": [
    "np.percentile(data['BMI'], 98.5, interpolation = 'midpoint') "
   ]
  },
  {
   "cell_type": "code",
   "execution_count": 15,
   "metadata": {
    "execution": {
     "iopub.execute_input": "2021-03-29T22:30:43.321083Z",
     "iopub.status.busy": "2021-03-29T22:30:43.319948Z",
     "iopub.status.idle": "2021-03-29T22:30:43.324911Z",
     "shell.execute_reply": "2021-03-29T22:30:43.324340Z"
    },
    "papermill": {
     "duration": 0.046712,
     "end_time": "2021-03-29T22:30:43.325064",
     "exception": false,
     "start_time": "2021-03-29T22:30:43.278352",
     "status": "completed"
    },
    "tags": []
   },
   "outputs": [],
   "source": [
    "val = data['BMI'].sort_values(ascending=False)"
   ]
  },
  {
   "cell_type": "markdown",
   "metadata": {
    "papermill": {
     "duration": 0.035932,
     "end_time": "2021-03-29T22:30:43.398137",
     "exception": false,
     "start_time": "2021-03-29T22:30:43.362205",
     "status": "completed"
    },
    "tags": []
   },
   "source": [
    "     These are the top values which I am counting as outliers. "
   ]
  },
  {
   "cell_type": "code",
   "execution_count": 16,
   "metadata": {
    "execution": {
     "iopub.execute_input": "2021-03-29T22:30:43.479165Z",
     "iopub.status.busy": "2021-03-29T22:30:43.478370Z",
     "iopub.status.idle": "2021-03-29T22:30:43.482065Z",
     "shell.execute_reply": "2021-03-29T22:30:43.481445Z"
    },
    "papermill": {
     "duration": 0.046279,
     "end_time": "2021-03-29T22:30:43.482214",
     "exception": false,
     "start_time": "2021-03-29T22:30:43.435935",
     "status": "completed"
    },
    "tags": []
   },
   "outputs": [
    {
     "name": "stdout",
     "output_type": "stream",
     "text": [
      "177    67.1\n",
      "445    59.4\n",
      "673    57.3\n",
      "125    55.0\n",
      "120    53.2\n",
      "303    52.9\n",
      "247    52.3\n",
      "193    52.3\n",
      "Name: BMI, dtype: float64\n"
     ]
    }
   ],
   "source": [
    "print(val[:8])"
   ]
  },
  {
   "cell_type": "code",
   "execution_count": 17,
   "metadata": {
    "execution": {
     "iopub.execute_input": "2021-03-29T22:30:43.562197Z",
     "iopub.status.busy": "2021-03-29T22:30:43.561223Z",
     "iopub.status.idle": "2021-03-29T22:30:43.565812Z",
     "shell.execute_reply": "2021-03-29T22:30:43.566327Z"
    },
    "papermill": {
     "duration": 0.047506,
     "end_time": "2021-03-29T22:30:43.566536",
     "exception": false,
     "start_time": "2021-03-29T22:30:43.519030",
     "status": "completed"
    },
    "tags": []
   },
   "outputs": [],
   "source": [
    "data = data[(data['BMI']>50)==False]"
   ]
  },
  {
   "cell_type": "code",
   "execution_count": 18,
   "metadata": {
    "execution": {
     "iopub.execute_input": "2021-03-29T22:30:43.647474Z",
     "iopub.status.busy": "2021-03-29T22:30:43.646782Z",
     "iopub.status.idle": "2021-03-29T22:30:43.651328Z",
     "shell.execute_reply": "2021-03-29T22:30:43.650797Z"
    },
    "papermill": {
     "duration": 0.047374,
     "end_time": "2021-03-29T22:30:43.651503",
     "exception": false,
     "start_time": "2021-03-29T22:30:43.604129",
     "status": "completed"
    },
    "tags": []
   },
   "outputs": [
    {
     "data": {
      "text/plain": [
       "(760, 9)"
      ]
     },
     "execution_count": 18,
     "metadata": {},
     "output_type": "execute_result"
    }
   ],
   "source": [
    "data.shape"
   ]
  },
  {
   "cell_type": "markdown",
   "metadata": {
    "papermill": {
     "duration": 0.036919,
     "end_time": "2021-03-29T22:30:43.725915",
     "exception": false,
     "start_time": "2021-03-29T22:30:43.688996",
     "status": "completed"
    },
    "tags": []
   },
   "source": [
    "    So after removing outliers we are left with 760 rows. \n",
    "    \n",
    "    Lets check removal of Outliers by plotting a boxplot."
   ]
  },
  {
   "cell_type": "code",
   "execution_count": 19,
   "metadata": {
    "execution": {
     "iopub.execute_input": "2021-03-29T22:30:43.822587Z",
     "iopub.status.busy": "2021-03-29T22:30:43.821763Z",
     "iopub.status.idle": "2021-03-29T22:30:43.914306Z",
     "shell.execute_reply": "2021-03-29T22:30:43.913371Z"
    },
    "papermill": {
     "duration": 0.151221,
     "end_time": "2021-03-29T22:30:43.914504",
     "exception": false,
     "start_time": "2021-03-29T22:30:43.763283",
     "status": "completed"
    },
    "tags": []
   },
   "outputs": [
    {
     "data": {
      "image/png": "[encoded data removed]",
      "text/plain": [
       "<Figure size 432x288 with 1 Axes>"
      ]
     },
     "metadata": {
      "needs_background": "light"
     },
     "output_type": "display_data"
    }
   ],
   "source": [
    "plt.boxplot(data['BMI'])\n",
    "plt.show()"
   ]
  },
  {
   "cell_type": "markdown",
   "metadata": {
    "papermill": {
     "duration": 0.037872,
     "end_time": "2021-03-29T22:30:43.990712",
     "exception": false,
     "start_time": "2021-03-29T22:30:43.952840",
     "status": "completed"
    },
    "tags": []
   },
   "source": [
    "    So we have our outliars removed and also we are clear from missing data. \n",
    "    \n",
    "    It's time for some visualizations. \n",
    "<hr />"
   ]
  },
  {
   "cell_type": "markdown",
   "metadata": {
    "papermill": {
     "duration": 0.037559,
     "end_time": "2021-03-29T22:30:44.067185",
     "exception": false,
     "start_time": "2021-03-29T22:30:44.029626",
     "status": "completed"
    },
    "tags": []
   },
   "source": [
    "# 3. Exploratory data analysis"
   ]
  },
  {
   "cell_type": "markdown",
   "metadata": {
    "papermill": {
     "duration": 0.038938,
     "end_time": "2021-03-29T22:30:44.144892",
     "exception": false,
     "start_time": "2021-03-29T22:30:44.105954",
     "status": "completed"
    },
    "tags": []
   },
   "source": [
    "#### Firstly lets check that if our data is balanced or not.\n",
    "**Balanced data** : If there are two classes, then balanced data would mean 50% points for each of the class.)\n",
    "#### Then we will plot a Distribution plot and other visualizations."
   ]
  },
  {
   "cell_type": "code",
   "execution_count": 20,
   "metadata": {
    "execution": {
     "iopub.execute_input": "2021-03-29T22:30:44.233168Z",
     "iopub.status.busy": "2021-03-29T22:30:44.232509Z",
     "iopub.status.idle": "2021-03-29T22:30:44.339388Z",
     "shell.execute_reply": "2021-03-29T22:30:44.340003Z"
    },
    "papermill": {
     "duration": 0.157119,
     "end_time": "2021-03-29T22:30:44.340178",
     "exception": false,
     "start_time": "2021-03-29T22:30:44.183059",
     "status": "completed"
    },
    "tags": []
   },
   "outputs": [
    {
     "data": {
      "image/png": "[encoded data removed]",
      "text/plain": [
       "<Figure size 432x288 with 1 Axes>"
      ]
     },
     "metadata": {
      "needs_background": "light"
     },
     "output_type": "display_data"
    }
   ],
   "source": [
    "xs = data['Outcome'].value_counts().index\n",
    "ys = data['Outcome'].value_counts().values\n",
    "\n",
    "ax = sns.barplot(xs, ys)\n",
    "ax.set_xlabel(\"Outcome\")\n",
    "plt.show()"
   ]
  },
  {
   "cell_type": "markdown",
   "metadata": {
    "papermill": {
     "duration": 0.039485,
     "end_time": "2021-03-29T22:30:44.419090",
     "exception": false,
     "start_time": "2021-03-29T22:30:44.379605",
     "status": "completed"
    },
    "tags": []
   },
   "source": [
    "\n",
    "Our Data is clearly not balanced. We will balance this data using **SMOTE technique** after some visualizations.\n",
    "\n",
    "**SMOTE** is an oversampling technique where the synthetic samples are generated for the minority class. This algorithm helps to overcome the **overfitting problem posed by random oversampling**. It focuses on the feature space to generate new instances with the help of interpolation between the positive instances that lie together.\n",
    "<hr />"
   ]
  },
  {
   "cell_type": "code",
   "execution_count": 21,
   "metadata": {
    "execution": {
     "iopub.execute_input": "2021-03-29T22:30:44.502456Z",
     "iopub.status.busy": "2021-03-29T22:30:44.501812Z",
     "iopub.status.idle": "2021-03-29T22:30:46.246135Z",
     "shell.execute_reply": "2021-03-29T22:30:46.245550Z"
    },
    "papermill": {
     "duration": 1.788256,
     "end_time": "2021-03-29T22:30:46.246276",
     "exception": false,
     "start_time": "2021-03-29T22:30:44.458020",
     "status": "completed"
    },
    "tags": []
   },
   "outputs": [
    {
     "data": {
      "image/png": "[encoded data removed]",
      "text/plain": [
       "<Figure size 1080x720 with 9 Axes>"
      ]
     },
     "metadata": {
      "needs_background": "light"
     },
     "output_type": "display_data"
    }
   ],
   "source": [
    "data.plot(kind= 'kde' , subplots=True, layout=(3,3), sharex=False, sharey=False, figsize=(15,10))\n",
    "plt.show()"
   ]
  },
  {
   "cell_type": "markdown",
   "metadata": {
    "papermill": {
     "duration": 0.041876,
     "end_time": "2021-03-29T22:30:46.330718",
     "exception": false,
     "start_time": "2021-03-29T22:30:46.288842",
     "status": "completed"
    },
    "tags": []
   },
   "source": [
    "We have our maximim columns normally distributed"
   ]
  },
  {
   "cell_type": "code",
   "execution_count": 22,
   "metadata": {
    "execution": {
     "iopub.execute_input": "2021-03-29T22:30:46.431222Z",
     "iopub.status.busy": "2021-03-29T22:30:46.424432Z",
     "iopub.status.idle": "2021-03-29T22:30:46.651655Z",
     "shell.execute_reply": "2021-03-29T22:30:46.652208Z"
    },
    "papermill": {
     "duration": 0.279763,
     "end_time": "2021-03-29T22:30:46.652390",
     "exception": false,
     "start_time": "2021-03-29T22:30:46.372627",
     "status": "completed"
    },
    "tags": []
   },
   "outputs": [
    {
     "data": {
      "image/png": "[encoded data removed]",
      "text/plain": [
       "<Figure size 864x576 with 1 Axes>"
      ]
     },
     "metadata": {
      "needs_background": "light"
     },
     "output_type": "display_data"
    }
   ],
   "source": [
    "# Age vs BloodPressure with hue = Outcome\n",
    "plt.figure(figsize=(12,8))\n",
    "ax = sns.scatterplot(x=\"BloodPressure\", y=\"Age\", alpha=0.4, data=data[data['Outcome'] == 0])\n",
    "sns.scatterplot(x=\"BloodPressure\", y=\"Age\", alpha=1, data=data[data['Outcome'] == 1], ax=ax)\n",
    "plt.show()"
   ]
  },
  {
   "cell_type": "code",
   "execution_count": 23,
   "metadata": {
    "execution": {
     "iopub.execute_input": "2021-03-29T22:30:46.742618Z",
     "iopub.status.busy": "2021-03-29T22:30:46.741979Z",
     "iopub.status.idle": "2021-03-29T22:30:46.955170Z",
     "shell.execute_reply": "2021-03-29T22:30:46.954614Z"
    },
    "papermill": {
     "duration": 0.259838,
     "end_time": "2021-03-29T22:30:46.955326",
     "exception": false,
     "start_time": "2021-03-29T22:30:46.695488",
     "status": "completed"
    },
    "tags": []
   },
   "outputs": [
    {
     "data": {
      "image/png": "[encoded data removed]",
      "text/plain": [
       "<Figure size 864x576 with 1 Axes>"
      ]
     },
     "metadata": {
      "needs_background": "light"
     },
     "output_type": "display_data"
    }
   ],
   "source": [
    "# BloodPressure vs BMI with hue = Outcome\n",
    "plt.figure(figsize=(12,8))\n",
    "ax = sns.scatterplot(y=\"BMI\", x=\"BloodPressure\", alpha=0.4, data=data[data['Outcome'] == 0])\n",
    "sns.scatterplot(y=\"BMI\", x=\"BloodPressure\", alpha=1, data=data[data['Outcome'] == 1], ax=ax)\n",
    "plt.show()"
   ]
  },
  {
   "cell_type": "code",
   "execution_count": 24,
   "metadata": {
    "execution": {
     "iopub.execute_input": "2021-03-29T22:30:47.077262Z",
     "iopub.status.busy": "2021-03-29T22:30:47.061304Z",
     "iopub.status.idle": "2021-03-29T22:30:47.332206Z",
     "shell.execute_reply": "2021-03-29T22:30:47.331653Z"
    },
    "papermill": {
     "duration": 0.331408,
     "end_time": "2021-03-29T22:30:47.332365",
     "exception": false,
     "start_time": "2021-03-29T22:30:47.000957",
     "status": "completed"
    },
    "tags": []
   },
   "outputs": [
    {
     "data": {
      "image/png": "[encoded data removed]",
      "text/plain": [
       "<Figure size 864x576 with 1 Axes>"
      ]
     },
     "metadata": {
      "needs_background": "light"
     },
     "output_type": "display_data"
    }
   ],
   "source": [
    "# BloodPressure vs BMI with hue = Outcome\n",
    "plt.figure(figsize=(12,8))\n",
    "ax = sns.scatterplot(y=\"Glucose\", x=\"BloodPressure\", alpha=0.4, color=\"blue\", label=\"0\", data=data[data['Outcome'] == 0])\n",
    "sns.scatterplot(x=\"BloodPressure\", y=\"Glucose\", alpha=1, color=\"red\", label=\"1\", data=data[data['Outcome'] == 1], ax=ax)\n",
    "plt.show()"
   ]
  },
  {
   "cell_type": "markdown",
   "metadata": {
    "papermill": {
     "duration": 0.045896,
     "end_time": "2021-03-29T22:30:47.424677",
     "exception": false,
     "start_time": "2021-03-29T22:30:47.378781",
     "status": "completed"
    },
    "tags": []
   },
   "source": [
    "## Insights\n",
    "<hr>\n",
    "<h4> - A younger person with high blood pressure level have more chances of getting diabetic positive than a elder person with high blood pressure\n",
    "<br><br>\n",
    "- An average person with BMI more than 35 have more chances of getting diabetic positive inspite of having a normal blood pressure also.\n",
    "<br><br>\n",
    "- A person with high glucose level and high blood pressure have more chances of getting diabetic positive.\n",
    "<br><br>\n",
    "- A person with high glucose level and high BMI can also come diabetic positive.\n",
    "</h4>"
   ]
  },
  {
   "cell_type": "markdown",
   "metadata": {
    "papermill": {
     "duration": 0.046643,
     "end_time": "2021-03-29T22:30:47.517621",
     "exception": false,
     "start_time": "2021-03-29T22:30:47.470978",
     "status": "completed"
    },
    "tags": []
   },
   "source": [
    "<hr />\n",
    "Now let's apply SMOTE for balancing our data.\n",
    "\n",
    "Balancing data is important for better modeling results.\n",
    "<hr />"
   ]
  },
  {
   "cell_type": "code",
   "execution_count": 25,
   "metadata": {
    "execution": {
     "iopub.execute_input": "2021-03-29T22:30:47.640751Z",
     "iopub.status.busy": "2021-03-29T22:30:47.637272Z",
     "iopub.status.idle": "2021-03-29T22:30:48.792257Z",
     "shell.execute_reply": "2021-03-29T22:30:48.791529Z"
    },
    "papermill": {
     "duration": 1.228531,
     "end_time": "2021-03-29T22:30:48.792419",
     "exception": false,
     "start_time": "2021-03-29T22:30:47.563888",
     "status": "completed"
    },
    "tags": []
   },
   "outputs": [
    {
     "data": {
      "image/png": "[encoded data removed]",
      "text/plain": [
       "<Figure size 720x360 with 2 Axes>"
      ]
     },
     "metadata": {
      "needs_background": "light"
     },
     "output_type": "display_data"
    }
   ],
   "source": [
    "# Splitting into features and value to be predicted\n",
    "X = data.drop(columns=['Outcome'])\n",
    "y = data['Outcome']\n",
    "fig, ax = plt.subplots(1,2 ,figsize = (10,5))\n",
    "\n",
    "sns.barplot(x=['0', '1'], y =[sum(y == 0), sum(y == 1)], ax = ax[0])\n",
    "ax[0].set_title(\"Before Oversampling\")\n",
    "ax[0].set_xlabel('Outcome')\n",
    "\n",
    "#Using SMOTE to balance the Data\n",
    "from imblearn.over_sampling import SMOTE\n",
    "\n",
    "sm = SMOTE(random_state = 2) \n",
    "X, y = sm.fit_resample(X, y) \n",
    "\n",
    "sns.barplot(x=['0', '1'], y =[sum(y == 0), sum(y == 1)], ax = ax[1])\n",
    "ax[1].set_title(\"After Oversampling\")\n",
    "ax[1].set_xlabel('Outcome')\n",
    "\n",
    "plt.tight_layout()\n",
    "plt.show()"
   ]
  },
  {
   "cell_type": "markdown",
   "metadata": {
    "papermill": {
     "duration": 0.047339,
     "end_time": "2021-03-29T22:30:48.889018",
     "exception": false,
     "start_time": "2021-03-29T22:30:48.841679",
     "status": "completed"
    },
    "tags": []
   },
   "source": [
    "# 4. Modeling "
   ]
  },
  {
   "cell_type": "markdown",
   "metadata": {
    "papermill": {
     "duration": 0.048594,
     "end_time": "2021-03-29T22:30:48.986269",
     "exception": false,
     "start_time": "2021-03-29T22:30:48.937675",
     "status": "completed"
    },
    "tags": []
   },
   "source": [
    "Let's first split the data into X,y using sklearn functions"
   ]
  },
  {
   "cell_type": "code",
   "execution_count": 26,
   "metadata": {
    "execution": {
     "iopub.execute_input": "2021-03-29T22:30:49.094110Z",
     "iopub.status.busy": "2021-03-29T22:30:49.092996Z",
     "iopub.status.idle": "2021-03-29T22:30:49.098637Z",
     "shell.execute_reply": "2021-03-29T22:30:49.097920Z"
    },
    "papermill": {
     "duration": 0.063964,
     "end_time": "2021-03-29T22:30:49.098797",
     "exception": false,
     "start_time": "2021-03-29T22:30:49.034833",
     "status": "completed"
    },
    "tags": []
   },
   "outputs": [
    {
     "data": {
      "text/plain": [
       "((697, 8), (299, 8), (697,), (299,))"
      ]
     },
     "execution_count": 26,
     "metadata": {},
     "output_type": "execute_result"
    }
   ],
   "source": [
    "from sklearn.model_selection import train_test_split\n",
    "\n",
    "X_train, X_test, y_train, y_test = train_test_split(X, y, test_size=0.3, random_state=40)\n",
    "\n",
    "\n",
    "X_train.shape, X_test.shape, y_train.shape, y_test.shape"
   ]
  },
  {
   "cell_type": "markdown",
   "metadata": {
    "papermill": {
     "duration": 0.048273,
     "end_time": "2021-03-29T22:30:49.196124",
     "exception": false,
     "start_time": "2021-03-29T22:30:49.147851",
     "status": "completed"
    },
    "tags": []
   },
   "source": [
    "We will use the cross validation technique for testing different models on our data.\n",
    "\n",
    "\n",
    "<h4>What is Cross-validation?</h4>\n",
    "Cross-validation is a resampling procedure used to evaluate machine learning models on a limited data sample. \n",
    "The procedure has k number of groups that a given data sample is to be split into. As such, the procedure is often called k-fold cross-validation.(k is the only parameter given)"
   ]
  },
  {
   "cell_type": "code",
   "execution_count": 27,
   "metadata": {
    "execution": {
     "iopub.execute_input": "2021-03-29T22:30:49.308514Z",
     "iopub.status.busy": "2021-03-29T22:30:49.307511Z",
     "iopub.status.idle": "2021-03-29T22:31:10.989616Z",
     "shell.execute_reply": "2021-03-29T22:31:10.988906Z"
    },
    "papermill": {
     "duration": 21.743932,
     "end_time": "2021-03-29T22:31:10.989779",
     "exception": false,
     "start_time": "2021-03-29T22:30:49.245847",
     "status": "completed"
    },
    "tags": []
   },
   "outputs": [
    {
     "name": "stdout",
     "output_type": "stream",
     "text": [
      "LR: 0.816455 (0.071655)\n",
      "LDA: 0.822475 (0.070178)\n",
      "RF: 0.817495 (0.075402)\n",
      "KNN: 0.816485 (0.080621)\n",
      "DT: 0.818434 (0.066108)\n",
      "NB: 0.810434 (0.071669)\n",
      "SVM: 0.816465 (0.068806)\n"
     ]
    },
    {
     "data": {
      "image/png": "[encoded data removed]",
      "text/plain": [
       "<Figure size 432x288 with 1 Axes>"
      ]
     },
     "metadata": {
      "needs_background": "light"
     },
     "output_type": "display_data"
    }
   ],
   "source": [
    "from sklearn import model_selection\n",
    "from sklearn.pipeline import make_pipeline\n",
    "from sklearn.preprocessing import StandardScaler\n",
    "from sklearn.linear_model import LogisticRegression\n",
    "from sklearn.tree import DecisionTreeClassifier\n",
    "from sklearn.ensemble import RandomForestClassifier\n",
    "from sklearn.neighbors import KNeighborsClassifier\n",
    "from sklearn.discriminant_analysis import LinearDiscriminantAnalysis\n",
    "from sklearn.naive_bayes import GaussianNB\n",
    "from sklearn.svm import SVC\n",
    "\n",
    "models = []\n",
    "models.append(('LR', LogisticRegression()))\n",
    "models.append(('LDA', LinearDiscriminantAnalysis()))\n",
    "models.append(('RF', RandomForestClassifier()))\n",
    "models.append(('KNN', KNeighborsClassifier()))\n",
    "models.append(('DT', DecisionTreeClassifier()))\n",
    "models.append(('NB', GaussianNB()))\n",
    "models.append(('SVM', SVC()))\n",
    "# evaluate each model in turn\n",
    "results = []\n",
    "names = []\n",
    "scoring = 'accuracy'\n",
    "for name, model in models:\n",
    "    kfold = model_selection.KFold(n_splits=10)\n",
    "    pipeline = make_pipeline(StandardScaler(), RandomForestClassifier())\n",
    "    pipeline.fit(X_train, y_train)\n",
    "    cv_results = model_selection.cross_val_score(pipeline, X, y, cv=kfold, scoring=scoring)\n",
    "    results.append(cv_results)\n",
    "    names.append(name)\n",
    "    msg = \"%s: %f (%f)\" % (name, cv_results.mean(), cv_results.std())\n",
    "    print(msg)\n",
    "    \n",
    "# boxplot algorithm comparison\n",
    "fig = plt.figure()\n",
    "fig.suptitle('Algorithm Comparison')\n",
    "ax = fig.add_subplot(111)\n",
    "plt.boxplot(results)\n",
    "ax.set_xticklabels(names)\n",
    "plt.show()"
   ]
  },
  {
   "cell_type": "markdown",
   "metadata": {
    "papermill": {
     "duration": 0.05109,
     "end_time": "2021-03-29T22:31:11.092456",
     "exception": false,
     "start_time": "2021-03-29T22:31:11.041366",
     "status": "completed"
    },
    "tags": []
   },
   "source": [
    "Here I am using RandomForest Classifier as base and for described modeling.\n",
    "\n",
    "I am using the **pipeline** feature to make a pipeline for standardising and then only applying proper algorithm. \n",
    "<hr />\n"
   ]
  },
  {
   "cell_type": "code",
   "execution_count": 28,
   "metadata": {
    "execution": {
     "iopub.execute_input": "2021-03-29T22:31:11.207433Z",
     "iopub.status.busy": "2021-03-29T22:31:11.205178Z",
     "iopub.status.idle": "2021-03-29T22:31:11.470236Z",
     "shell.execute_reply": "2021-03-29T22:31:11.469493Z"
    },
    "papermill": {
     "duration": 0.326214,
     "end_time": "2021-03-29T22:31:11.470455",
     "exception": false,
     "start_time": "2021-03-29T22:31:11.144241",
     "status": "completed"
    },
    "tags": []
   },
   "outputs": [
    {
     "name": "stdout",
     "output_type": "stream",
     "text": [
      "Accuracy Score : 81.61%\n"
     ]
    }
   ],
   "source": [
    "from sklearn.metrics import accuracy_score, classification_report, plot_confusion_matrix\n",
    "\n",
    "pipeline = make_pipeline(StandardScaler(), RandomForestClassifier())\n",
    "pipeline.fit(X_train, y_train)\n",
    "prediction = pipeline.predict(X_test)\n",
    "\n",
    "print(f\"Accuracy Score : {round(accuracy_score(y_test, prediction) * 100, 2)}%\")"
   ]
  },
  {
   "cell_type": "markdown",
   "metadata": {
    "papermill": {
     "duration": 0.051031,
     "end_time": "2021-03-29T22:31:11.573382",
     "exception": false,
     "start_time": "2021-03-29T22:31:11.522351",
     "status": "completed"
    },
    "tags": []
   },
   "source": [
    "Wow, we got accuracy score above 80%. Thats great.\n",
    "\n",
    "Now let's check for the model report."
   ]
  },
  {
   "cell_type": "code",
   "execution_count": 29,
   "metadata": {
    "execution": {
     "iopub.execute_input": "2021-03-29T22:31:11.681909Z",
     "iopub.status.busy": "2021-03-29T22:31:11.681241Z",
     "iopub.status.idle": "2021-03-29T22:31:11.694292Z",
     "shell.execute_reply": "2021-03-29T22:31:11.693428Z"
    },
    "papermill": {
     "duration": 0.069424,
     "end_time": "2021-03-29T22:31:11.694524",
     "exception": false,
     "start_time": "2021-03-29T22:31:11.625100",
     "status": "completed"
    },
    "tags": []
   },
   "outputs": [
    {
     "name": "stdout",
     "output_type": "stream",
     "text": [
      "              precision    recall  f1-score   support\n",
      "\n",
      "           0       0.84      0.79      0.81       152\n",
      "           1       0.79      0.84      0.82       147\n",
      "\n",
      "    accuracy                           0.82       299\n",
      "   macro avg       0.82      0.82      0.82       299\n",
      "weighted avg       0.82      0.82      0.82       299\n",
      "\n"
     ]
    }
   ],
   "source": [
    "print(classification_report(y_test, prediction))"
   ]
  },
  {
   "cell_type": "markdown",
   "metadata": {
    "papermill": {
     "duration": 0.052594,
     "end_time": "2021-03-29T22:31:11.800178",
     "exception": false,
     "start_time": "2021-03-29T22:31:11.747584",
     "status": "completed"
    },
    "tags": []
   },
   "source": [
    "# Thanks for your time :)\n",
    "\n",
    "## If you like this kernel an Upvote would be appreciated."
   ]
  }
 ],
 "metadata": {
  "kernelspec": {
   "display_name": "Python 3",
   "language": "python",
   "name": "python3"
  },
  "language_info": {
   "codemirror_mode": {
    "name": "ipython",
    "version": 3
   },
   "file_extension": ".py",
   "mimetype": "text/x-python",
   "name": "python",
   "nbconvert_exporter": "python",
   "pygments_lexer": "ipython3",
   "version": "3.7.9"
  },
  "papermill": {
   "default_parameters": {},
   "duration": 39.721875,
   "end_time": "2021-03-29T22:31:12.564654",
   "environment_variables": {},
   "exception": null,
   "input_path": "__notebook__.ipynb",
   "output_path": "__notebook__.ipynb",
   "parameters": {},
   "start_time": "2021-03-29T22:30:32.842779",
   "version": "2.2.2"
  }
 },
 "nbformat": 4,
 "nbformat_minor": 4
}
