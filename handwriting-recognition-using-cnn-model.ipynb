{
 "cells": [
  {
   "cell_type": "code",
   "execution_count": 1,
   "id": "77ee60bf",
   "metadata": {
    "_cell_guid": "b1076dfc-b9ad-4769-8c92-a6c4dae69d19",
    "_uuid": "8f2839f25d086af736a60e9eeb907d3b93b6e0e5",
    "execution": {
     "iopub.execute_input": "2023-11-25T22:54:31.788255Z",
     "iopub.status.busy": "2023-11-25T22:54:31.787706Z",
     "iopub.status.idle": "2023-11-25T22:54:48.494468Z",
     "shell.execute_reply": "2023-11-25T22:54:48.493065Z"
    },
    "papermill": {
     "duration": 16.723087,
     "end_time": "2023-11-25T22:54:48.497889",
     "exception": false,
     "start_time": "2023-11-25T22:54:31.774802",
     "status": "completed"
    },
    "tags": []
   },
   "outputs": [],
   "source": [
    "import tensorflow as tf\n",
    "import os\n",
    "import cv2\n",
    "import imghdr\n",
    "import pandas as pd\n",
    "import matplotlib.pyplot as plt\n",
    "import numpy as np\n",
    "from sklearn.preprocessing import LabelBinarizer\n",
    "from itertools import chain\n"
   ]
  },
  {
   "cell_type": "markdown",
   "id": "a889528f",
   "metadata": {
    "papermill": {
     "duration": 0.009862,
     "end_time": "2023-11-25T22:54:48.518768",
     "exception": false,
     "start_time": "2023-11-25T22:54:48.508906",
     "status": "completed"
    },
    "tags": []
   },
   "source": [
    "# 1. Loading and visualization Data"
   ]
  },
  {
   "cell_type": "code",
   "execution_count": 2,
   "id": "12cf9e0a",
   "metadata": {
    "execution": {
     "iopub.execute_input": "2023-11-25T22:54:48.540821Z",
     "iopub.status.busy": "2023-11-25T22:54:48.540091Z",
     "iopub.status.idle": "2023-11-25T22:54:49.166793Z",
     "shell.execute_reply": "2023-11-25T22:54:49.164743Z"
    },
    "papermill": {
     "duration": 0.642233,
     "end_time": "2023-11-25T22:54:49.170791",
     "exception": false,
     "start_time": "2023-11-25T22:54:48.528558",
     "status": "completed"
    },
    "tags": []
   },
   "outputs": [
    {
     "data": {
      "text/plain": [
       "(          FILENAME   IDENTITY\n",
       " 0  TRAIN_00001.jpg  BALTHAZAR\n",
       " 1  TRAIN_00002.jpg      SIMON\n",
       " 2  TRAIN_00003.jpg      BENES\n",
       " 3  TRAIN_00004.jpg    LA LOVE\n",
       " 4  TRAIN_00005.jpg     DAPHNE\n",
       " 5  TRAIN_00006.jpg      LUCIE,\n",
       "               FILENAME    IDENTITY\n",
       " 0  VALIDATION_0001.jpg       BILEL\n",
       " 1  VALIDATION_0002.jpg  LAUMIONIER\n",
       " 2  VALIDATION_0003.jpg         LEA\n",
       " 3  VALIDATION_0004.jpg   JEAN-ROCH\n",
       " 4  VALIDATION_0005.jpg        RUPP\n",
       " 5  VALIDATION_0006.jpg  UNREADABLE)"
      ]
     },
     "execution_count": 2,
     "metadata": {},
     "output_type": "execute_result"
    }
   ],
   "source": [
    "train = pd.read_csv('/kaggle/input/handwriting-recognition/written_name_train_v2.csv')\n",
    "test = pd.read_csv('/kaggle/input/handwriting-recognition/written_name_validation_v2.csv')\n",
    "train_img_dir = '/kaggle/input/handwriting-recognition/train_v2/train'\n",
    "test_img_dir = '/kaggle/input/handwriting-recognition/validation_v2/validation'\n",
    "train.head(6), test.head(6)\n"
   ]
  },
  {
   "cell_type": "markdown",
   "id": "4baadad3",
   "metadata": {
    "papermill": {
     "duration": 0.009471,
     "end_time": "2023-11-25T22:54:49.208428",
     "exception": false,
     "start_time": "2023-11-25T22:54:49.198957",
     "status": "completed"
    },
    "tags": []
   },
   "source": [
    "# 2. Data Cleaning"
   ]
  },
  {
   "cell_type": "markdown",
   "id": "337a4b86",
   "metadata": {
    "papermill": {
     "duration": 0.009552,
     "end_time": "2023-11-25T22:54:49.227939",
     "exception": false,
     "start_time": "2023-11-25T22:54:49.218387",
     "status": "completed"
    },
    "tags": []
   },
   "source": [
    "##### Remove all rows that have as IDENTITY = UNREADABLE"
   ]
  },
  {
   "cell_type": "code",
   "execution_count": 3,
   "id": "017fd3fd",
   "metadata": {
    "execution": {
     "iopub.execute_input": "2023-11-25T22:54:49.250106Z",
     "iopub.status.busy": "2023-11-25T22:54:49.249701Z",
     "iopub.status.idle": "2023-11-25T22:54:49.301911Z",
     "shell.execute_reply": "2023-11-25T22:54:49.299998Z"
    },
    "papermill": {
     "duration": 0.066725,
     "end_time": "2023-11-25T22:54:49.304842",
     "exception": false,
     "start_time": "2023-11-25T22:54:49.238117",
     "status": "completed"
    },
    "tags": []
   },
   "outputs": [
    {
     "name": "stdout",
     "output_type": "stream",
     "text": [
      "Tain set:  330961\n",
      "UNREADABLE in train set :  565\n",
      "Test set:  41370\n",
      "UNREADABLE in validation set :  78\n"
     ]
    }
   ],
   "source": [
    "print(\"Tain set: \",train['IDENTITY'].shape[0])\n",
    "print(\"UNREADABLE in train set : \", train['IDENTITY'].isnull().sum())\n",
    "print(\"Test set: \", test['IDENTITY'].shape[0])\n",
    "print(\"UNREADABLE in validation set : \", test['IDENTITY'].isnull().sum())\n"
   ]
  },
  {
   "cell_type": "code",
   "execution_count": 4,
   "id": "c68b12fb",
   "metadata": {
    "execution": {
     "iopub.execute_input": "2023-11-25T22:54:49.327662Z",
     "iopub.status.busy": "2023-11-25T22:54:49.326460Z",
     "iopub.status.idle": "2023-11-25T22:54:49.537248Z",
     "shell.execute_reply": "2023-11-25T22:54:49.535807Z"
    },
    "papermill": {
     "duration": 0.224948,
     "end_time": "2023-11-25T22:54:49.539824",
     "exception": false,
     "start_time": "2023-11-25T22:54:49.314876",
     "status": "completed"
    },
    "tags": []
   },
   "outputs": [
    {
     "name": "stdout",
     "output_type": "stream",
     "text": [
      "train: 330294  test: 41280\n"
     ]
    }
   ],
   "source": [
    "train = train[train['IDENTITY'] != 'UNREADABLE']\n",
    "train = train.dropna()\n",
    "test = test[test['IDENTITY'] != 'UNREADABLE']\n",
    "test = test.dropna()\n",
    "print(\"train:\",train.shape[0],\" test:\",test.shape[0])\n"
   ]
  },
  {
   "cell_type": "markdown",
   "id": "6162503e",
   "metadata": {
    "papermill": {
     "duration": 0.009436,
     "end_time": "2023-11-25T22:54:49.559292",
     "exception": false,
     "start_time": "2023-11-25T22:54:49.549856",
     "status": "completed"
    },
    "tags": []
   },
   "source": [
    "# 3. Transformation data"
   ]
  },
  {
   "cell_type": "markdown",
   "id": "9dc4f2b1",
   "metadata": {
    "papermill": {
     "duration": 0.010293,
     "end_time": "2023-11-25T22:54:49.579394",
     "exception": false,
     "start_time": "2023-11-25T22:54:49.569101",
     "status": "completed"
    },
    "tags": []
   },
   "source": [
    "#### For model to perform better , it must:\n",
    "* Resize all data to one size (in my case i choose [284,62])\n",
    "* Convert image from (R,G,B) to binary (1 or 0) "
   ]
  },
  {
   "cell_type": "code",
   "execution_count": 5,
   "id": "49f51403",
   "metadata": {
    "execution": {
     "iopub.execute_input": "2023-11-25T22:54:49.603062Z",
     "iopub.status.busy": "2023-11-25T22:54:49.602553Z",
     "iopub.status.idle": "2023-11-25T22:54:49.610397Z",
     "shell.execute_reply": "2023-11-25T22:54:49.609139Z"
    },
    "papermill": {
     "duration": 0.023903,
     "end_time": "2023-11-25T22:54:49.613079",
     "exception": false,
     "start_time": "2023-11-25T22:54:49.589176",
     "status": "completed"
    },
    "tags": []
   },
   "outputs": [],
   "source": [
    "def to_binary(image):\n",
    "    image = cv2.resize(cv2.cvtColor(image, cv2.COLOR_BGR2RGB),dsize=(284,62))\n",
    "    image_gray = cv2.cvtColor(image, cv2.COLOR_BGR2GRAY)\n",
    "    (thresh, image_binary) = cv2.threshold(image_gray, 128, 255, cv2.THRESH_BINARY | cv2.THRESH_OTSU)\n",
    "    image_binary = cv2.threshold(image_gray, thresh, 255, cv2.THRESH_BINARY)[1]\n",
    "    image_binary = image_binary / 255\n",
    "    return image_binary\n"
   ]
  },
  {
   "cell_type": "markdown",
   "id": "49129387",
   "metadata": {
    "papermill": {
     "duration": 0.009524,
     "end_time": "2023-11-25T22:54:49.632570",
     "exception": false,
     "start_time": "2023-11-25T22:54:49.623046",
     "status": "completed"
    },
    "tags": []
   },
   "source": [
    "## Loading data\n",
    "* train_data_img   containing all the pictures of train data\n",
    "* test_data_img   containing all the pictures of test data\n",
    "* train_data_idt   containing all IDENTITY of train data\n",
    "* test_data_idt   containing all IDENTITY of test data"
   ]
  },
  {
   "cell_type": "code",
   "execution_count": 6,
   "id": "b510da59",
   "metadata": {
    "execution": {
     "iopub.execute_input": "2023-11-25T22:54:49.655059Z",
     "iopub.status.busy": "2023-11-25T22:54:49.654570Z",
     "iopub.status.idle": "2023-11-25T22:55:01.939054Z",
     "shell.execute_reply": "2023-11-25T22:55:01.937630Z"
    },
    "papermill": {
     "duration": 12.299992,
     "end_time": "2023-11-25T22:55:01.942364",
     "exception": false,
     "start_time": "2023-11-25T22:54:49.642372",
     "status": "completed"
    },
    "tags": []
   },
   "outputs": [],
   "source": [
    "train_data_img = []\n",
    "train_data_idt = []\n",
    "#for i in range(test.shape[0]):   #it's take too longe to do all images\n",
    "for i in range(1000):\n",
    "    image_filename = train['FILENAME'].iloc[i] \n",
    "    image_path = os.path.join(train_img_dir,image_filename)\n",
    "    image = cv2.imread(image_path)\n",
    "    image = to_binary(image)\n",
    "    train_data_img.append(image) \n",
    "    train_data_idt.append(train['IDENTITY'].iloc[i])    \n",
    "    "
   ]
  },
  {
   "cell_type": "code",
   "execution_count": 7,
   "id": "fa756884",
   "metadata": {
    "execution": {
     "iopub.execute_input": "2023-11-25T22:55:01.965006Z",
     "iopub.status.busy": "2023-11-25T22:55:01.964555Z",
     "iopub.status.idle": "2023-11-25T22:55:12.425367Z",
     "shell.execute_reply": "2023-11-25T22:55:12.423817Z"
    },
    "papermill": {
     "duration": 10.476126,
     "end_time": "2023-11-25T22:55:12.428947",
     "exception": false,
     "start_time": "2023-11-25T22:55:01.952821",
     "status": "completed"
    },
    "tags": []
   },
   "outputs": [],
   "source": [
    "test_data_img = []\n",
    "test_data_idt = []\n",
    "#for i in range(test.shape[0]):\n",
    "for i in range(1000):\n",
    "    image_filename = test['FILENAME'].iloc[i]\n",
    "    image_path = os.path.join(test_img_dir,image_filename)\n",
    "    image = cv2.imread(image_path)\n",
    "    image = to_binary(image)\n",
    "    test_data_img.append(image)\n",
    "    test_data_idt.append(test['IDENTITY'].iloc[i])  \n",
    "    "
   ]
  },
  {
   "cell_type": "code",
   "execution_count": 8,
   "id": "77273c2e",
   "metadata": {
    "execution": {
     "iopub.execute_input": "2023-11-25T22:55:12.452321Z",
     "iopub.status.busy": "2023-11-25T22:55:12.451870Z",
     "iopub.status.idle": "2023-11-25T22:55:13.115394Z",
     "shell.execute_reply": "2023-11-25T22:55:13.113797Z"
    },
    "papermill": {
     "duration": 0.680802,
     "end_time": "2023-11-25T22:55:13.120522",
     "exception": false,
     "start_time": "2023-11-25T22:55:12.439720",
     "status": "completed"
    },
    "tags": []
   },
   "outputs": [
    {
     "name": "stdout",
     "output_type": "stream",
     "text": [
      "BALTHAZAR\n",
      "(62, 284)\n"
     ]
    },
    {
     "data": {
      "image/png": "[encoded data removed]",
      "text/plain": [
       "<Figure size 640x480 with 1 Axes>"
      ]
     },
     "metadata": {},
     "output_type": "display_data"
    },
    {
     "name": "stdout",
     "output_type": "stream",
     "text": [
      "SIMON\n",
      "(62, 284)\n"
     ]
    },
    {
     "data": {
      "image/png": "[encoded data removed]",
      "text/plain": [
       "<Figure size 640x480 with 1 Axes>"
      ]
     },
     "metadata": {},
     "output_type": "display_data"
    },
    {
     "name": "stdout",
     "output_type": "stream",
     "text": [
      "BENES\n",
      "(62, 284)\n"
     ]
    },
    {
     "data": {
      "image/png": "[encoded data removed]",
      "text/plain": [
       "<Figure size 640x480 with 1 Axes>"
      ]
     },
     "metadata": {},
     "output_type": "display_data"
    },
    {
     "name": "stdout",
     "output_type": "stream",
     "text": [
      "BILEL\n",
      "(62, 284)\n"
     ]
    },
    {
     "data": {
      "image/png": "[encoded data removed]",
      "text/plain": [
       "<Figure size 640x480 with 1 Axes>"
      ]
     },
     "metadata": {},
     "output_type": "display_data"
    },
    {
     "name": "stdout",
     "output_type": "stream",
     "text": [
      "LAUMIONIER\n",
      "(62, 284)\n"
     ]
    },
    {
     "data": {
      "image/png": "[encoded data removed]",
      "text/plain": [
       "<Figure size 640x480 with 1 Axes>"
      ]
     },
     "metadata": {},
     "output_type": "display_data"
    },
    {
     "name": "stdout",
     "output_type": "stream",
     "text": [
      "LEA\n",
      "(62, 284)\n"
     ]
    },
    {
     "data": {
      "image/png": "[encoded data removed]",
      "text/plain": [
       "<Figure size 640x480 with 1 Axes>"
      ]
     },
     "metadata": {},
     "output_type": "display_data"
    }
   ],
   "source": [
    "for i in range(3):\n",
    "    print(train_data_idt[i])\n",
    "    print(train_data_img[i].shape)\n",
    "    plt.imshow(train_data_img[i],cmap='gray')\n",
    "    plt.axis('off')\n",
    "    plt.show()\n",
    "for i in range(3):\n",
    "    print(test_data_idt[i])\n",
    "    print(test_data_img[i].shape)\n",
    "    plt.imshow(test_data_img[i],cmap='gray')\n",
    "    plt.axis('off')\n",
    "    plt.show()\n",
    "    "
   ]
  },
  {
   "cell_type": "markdown",
   "id": "6b8f94fb",
   "metadata": {
    "papermill": {
     "duration": 0.025928,
     "end_time": "2023-11-25T22:55:13.172638",
     "exception": false,
     "start_time": "2023-11-25T22:55:13.146710",
     "status": "completed"
    },
    "tags": []
   },
   "source": [
    "## coding IDENTITY \n"
   ]
  },
  {
   "cell_type": "markdown",
   "id": "3eef584f",
   "metadata": {
    "papermill": {
     "duration": 0.012171,
     "end_time": "2023-11-25T22:55:13.211468",
     "exception": false,
     "start_time": "2023-11-25T22:55:13.199297",
     "status": "completed"
    },
    "tags": []
   },
   "source": [
    "#### 1. extract all the letters used in all data (IDENTITY)"
   ]
  },
  {
   "cell_type": "code",
   "execution_count": 9,
   "id": "129b8ccb",
   "metadata": {
    "execution": {
     "iopub.execute_input": "2023-11-25T22:55:13.238785Z",
     "iopub.status.busy": "2023-11-25T22:55:13.238019Z",
     "iopub.status.idle": "2023-11-25T22:55:13.244861Z",
     "shell.execute_reply": "2023-11-25T22:55:13.243784Z"
    },
    "papermill": {
     "duration": 0.023942,
     "end_time": "2023-11-25T22:55:13.247795",
     "exception": false,
     "start_time": "2023-11-25T22:55:13.223853",
     "status": "completed"
    },
    "tags": []
   },
   "outputs": [
    {
     "name": "stdout",
     "output_type": "stream",
     "text": [
      "['Q', 'W', '-', 'C', 'D', 'E', 'Z', 'T', 'L', 'R', 'J', 'G', 'S', ' ', 'Y', 'X', 'B', 'V', \"'\", 'I', 'N', 'P', 'O', 'A', 'M', 'K', 'F', 'U', 'H']\n",
      "29\n"
     ]
    }
   ],
   "source": [
    "all_data = train_data_idt + test_data_idt\n",
    "# Concatenate names into a single string\n",
    "all_characters = ''.join(all_data)\n",
    "\n",
    "# Create a set to get unique characters\n",
    "unique_characters_set = set(all_characters)\n",
    "\n",
    "# Convert the set back to a list if needed\n",
    "unique_characters_list = list(unique_characters_set)\n",
    "\n",
    "print(unique_characters_list)\n",
    "print(len(unique_characters_list))\n"
   ]
  },
  {
   "cell_type": "markdown",
   "id": "014143f5",
   "metadata": {
    "papermill": {
     "duration": 0.012053,
     "end_time": "2023-11-25T22:55:13.272898",
     "exception": false,
     "start_time": "2023-11-25T22:55:13.260845",
     "status": "completed"
    },
    "tags": []
   },
   "source": [
    "#### 2. Creat dictionary "
   ]
  },
  {
   "cell_type": "markdown",
   "id": "a9071243",
   "metadata": {
    "papermill": {
     "duration": 0.012035,
     "end_time": "2023-11-25T22:55:13.297442",
     "exception": false,
     "start_time": "2023-11-25T22:55:13.285407",
     "status": "completed"
    },
    "tags": []
   },
   "source": [
    "* Encode each character into vector as {‘a’:[1,0,0,0], ‘b’:[0,1,0,0] …….. ‘z’:[0,0,0,1]} etc. "
   ]
  },
  {
   "cell_type": "code",
   "execution_count": 10,
   "id": "712ae8aa",
   "metadata": {
    "execution": {
     "iopub.execute_input": "2023-11-25T22:55:13.324657Z",
     "iopub.status.busy": "2023-11-25T22:55:13.323844Z",
     "iopub.status.idle": "2023-11-25T22:55:13.351839Z",
     "shell.execute_reply": "2023-11-25T22:55:13.350471Z"
    },
    "papermill": {
     "duration": 0.045462,
     "end_time": "2023-11-25T22:55:13.355203",
     "exception": false,
     "start_time": "2023-11-25T22:55:13.309741",
     "status": "completed"
    },
    "tags": []
   },
   "outputs": [],
   "source": [
    "lb = LabelBinarizer()\n",
    "lb.fit(unique_characters_list)\n",
    "lb.classes_\n",
    "dec = {}\n",
    "for i in range(len(unique_characters_list)):\n",
    "    if unique_characters_list[i] in dec.keys():\n",
    "        pass\n",
    "    else: \n",
    "        a = lb.transform([unique_characters_list[i]])\n",
    "        a = list(chain(*a)) #flattened_list from [[....]] to []\n",
    "        dec[unique_characters_list[i]]= a\n",
    "        "
   ]
  },
  {
   "cell_type": "code",
   "execution_count": 11,
   "id": "842e037f",
   "metadata": {
    "execution": {
     "iopub.execute_input": "2023-11-25T22:55:13.382616Z",
     "iopub.status.busy": "2023-11-25T22:55:13.381501Z",
     "iopub.status.idle": "2023-11-25T22:55:13.390062Z",
     "shell.execute_reply": "2023-11-25T22:55:13.388791Z"
    },
    "papermill": {
     "duration": 0.024917,
     "end_time": "2023-11-25T22:55:13.392502",
     "exception": false,
     "start_time": "2023-11-25T22:55:13.367585",
     "status": "completed"
    },
    "tags": []
   },
   "outputs": [
    {
     "name": "stdout",
     "output_type": "stream",
     "text": [
      "train data longest word :\n",
      "19\n",
      "DI - BIN - LOMBARDI\n",
      "\n",
      "test data longest word :\n",
      "16\n",
      "BELMERROUBICARRO\n"
     ]
    }
   ],
   "source": [
    "print(\"train data longest word :\")\n",
    "length_of_longest_word_in_train = len(max(train_data_idt, key=len))\n",
    "print(length_of_longest_word_in_train)\n",
    "word_with_longest_characters = max(train_data_idt, key=len)\n",
    "print(word_with_longest_characters)\n",
    "print()\n",
    "print(\"test data longest word :\")\n",
    "length_of_longest_word_in_test = len(max(test_data_idt, key=len))\n",
    "print(length_of_longest_word_in_test)\n",
    "word_with_longest_characters = max(test_data_idt, key=len)\n",
    "print(word_with_longest_characters)\n"
   ]
  },
  {
   "cell_type": "markdown",
   "id": "162f6bb9",
   "metadata": {
    "papermill": {
     "duration": 0.012035,
     "end_time": "2023-11-25T22:55:13.416927",
     "exception": false,
     "start_time": "2023-11-25T22:55:13.404892",
     "status": "completed"
    },
    "tags": []
   },
   "source": [
    "#### 3. coding all IDENTITY using our dictionary  \n"
   ]
  },
  {
   "cell_type": "code",
   "execution_count": 12,
   "id": "3e3b7d26",
   "metadata": {
    "execution": {
     "iopub.execute_input": "2023-11-25T22:55:13.444074Z",
     "iopub.status.busy": "2023-11-25T22:55:13.443586Z",
     "iopub.status.idle": "2023-11-25T22:55:13.842622Z",
     "shell.execute_reply": "2023-11-25T22:55:13.841230Z"
    },
    "papermill": {
     "duration": 0.416708,
     "end_time": "2023-11-25T22:55:13.845969",
     "exception": false,
     "start_time": "2023-11-25T22:55:13.429261",
     "status": "completed"
    },
    "tags": []
   },
   "outputs": [
    {
     "name": "stdout",
     "output_type": "stream",
     "text": [
      "(1000, 19, 29)\n",
      "(1000, 19, 29)\n"
     ]
    }
   ],
   "source": [
    "\n",
    "# Function to convert a name to a list of vectors using the dictionary\n",
    "def name_to_vectors(name,max_len,num_char):\n",
    "    zeros_list = [0] * num_char\n",
    "    num_vec_to_add = max_len - len(name)\n",
    "    list_vc_name = [dec[char] for char in name]\n",
    "    \n",
    "    for i in range(num_vec_to_add):\n",
    "        list_vc_name.append(zeros_list)\n",
    "    return list_vc_name\n",
    "\n",
    "# Creating a list of vectors for each name\n",
    "vectors_list_train_idt = [name_to_vectors(name,length_of_longest_word_in_train,len(unique_characters_list)) for name in train_data_idt] # for train data\n",
    "vectors_list_test_idt = [name_to_vectors(name,length_of_longest_word_in_train,len(unique_characters_list)) for name in test_data_idt] # for test data \n",
    "\n",
    "#for name, vectors in zip(names, vectors_list):\n",
    "    #print(f\"{name}: {vectors}\")\n",
    "vectors_list_train_idt = np.array(vectors_list_train_idt) #change from list to numpy array\n",
    "vectors_list_test_idt = np.array(vectors_list_test_idt)\n",
    "print(vectors_list_train_idt.shape)\n",
    "print(vectors_list_test_idt.shape)\n"
   ]
  },
  {
   "cell_type": "code",
   "execution_count": 13,
   "id": "70326fd6",
   "metadata": {
    "execution": {
     "iopub.execute_input": "2023-11-25T22:55:13.873473Z",
     "iopub.status.busy": "2023-11-25T22:55:13.873050Z",
     "iopub.status.idle": "2023-11-25T22:55:14.027851Z",
     "shell.execute_reply": "2023-11-25T22:55:14.026785Z"
    },
    "papermill": {
     "duration": 0.171663,
     "end_time": "2023-11-25T22:55:14.030294",
     "exception": false,
     "start_time": "2023-11-25T22:55:13.858631",
     "status": "completed"
    },
    "tags": []
   },
   "outputs": [
    {
     "name": "stdout",
     "output_type": "stream",
     "text": [
      "(1000, 62, 284, 1) (1000, 19, 29)\n",
      "(1000, 62, 284, 1) (1000, 19, 29)\n"
     ]
    }
   ],
   "source": [
    "#LB = LabelBinarizer()\n",
    "#train_data_idt = LB.fit_transform(train_data_idt)\n",
    "#test_data_idt = LB.fit_transform(test_data_idt)\n",
    "#print(test_data_idt[0:5])\n",
    "\n",
    "train_data_img = np.array(train_data_img)\n",
    "train_data_img = train_data_img.reshape(-1,62,284,1)\n",
    "\n",
    "test_data_img = np.array(test_data_img)\n",
    "test_data_img = test_data_img.reshape(-1,62,284,1)\n",
    "\n",
    "#train_data_idt = np.array(train_data_idt)\n",
    "#test_data_idt = np.array(test_data_idt)\n",
    "\n",
    "#print(type(train_data_idt[1]), type(test_data_idt))\n",
    "print(train_data_img.shape,vectors_list_train_idt.shape)\n",
    "print(test_data_img.shape,vectors_list_test_idt.shape)\n"
   ]
  },
  {
   "cell_type": "markdown",
   "id": "3d7f9ed8",
   "metadata": {
    "papermill": {
     "duration": 0.012161,
     "end_time": "2023-11-25T22:55:14.055333",
     "exception": false,
     "start_time": "2023-11-25T22:55:14.043172",
     "status": "completed"
    },
    "tags": []
   },
   "source": [
    "# 4. Creat model"
   ]
  },
  {
   "cell_type": "code",
   "execution_count": 14,
   "id": "009324a8",
   "metadata": {
    "execution": {
     "iopub.execute_input": "2023-11-25T22:55:14.083592Z",
     "iopub.status.busy": "2023-11-25T22:55:14.082145Z",
     "iopub.status.idle": "2023-11-25T22:55:14.228278Z",
     "shell.execute_reply": "2023-11-25T22:55:14.226947Z"
    },
    "papermill": {
     "duration": 0.163484,
     "end_time": "2023-11-25T22:55:14.231252",
     "exception": false,
     "start_time": "2023-11-25T22:55:14.067768",
     "status": "completed"
    },
    "tags": []
   },
   "outputs": [],
   "source": [
    "from tensorflow.keras.models import Sequential\n",
    "from tensorflow.keras.layers import Conv2D, MaxPooling2D, Dense, Flatten, Dropout\n"
   ]
  },
  {
   "cell_type": "code",
   "execution_count": 15,
   "id": "5cc4245a",
   "metadata": {
    "execution": {
     "iopub.execute_input": "2023-11-25T22:55:14.258384Z",
     "iopub.status.busy": "2023-11-25T22:55:14.257984Z",
     "iopub.status.idle": "2023-11-25T22:55:14.520622Z",
     "shell.execute_reply": "2023-11-25T22:55:14.519198Z"
    },
    "papermill": {
     "duration": 0.279931,
     "end_time": "2023-11-25T22:55:14.523751",
     "exception": false,
     "start_time": "2023-11-25T22:55:14.243820",
     "status": "completed"
    },
    "tags": []
   },
   "outputs": [],
   "source": [
    "model = Sequential()\n",
    "\n",
    "model.add(Conv2D(16, (3, 3), 1, activation='relu', input_shape=(62,284,1)))\n",
    "model.add(MaxPooling2D())\n",
    "\n",
    "model.add(Conv2D(32, (3,3), 1, activation='relu'))\n",
    "model.add(MaxPooling2D())\n",
    "\n",
    "model.add(Conv2D(16, (3,3), 1, activation='relu'))\n",
    "model.add(MaxPooling2D())\n",
    "\n",
    "model.add(Flatten())\n",
    "model.add(Dense(256, activation='relu'))\n",
    "model.add(Dense(len(unique_characters_list), activation='softmax'))\n"
   ]
  },
  {
   "cell_type": "code",
   "execution_count": 16,
   "id": "c9bb8c61",
   "metadata": {
    "execution": {
     "iopub.execute_input": "2023-11-25T22:55:14.552550Z",
     "iopub.status.busy": "2023-11-25T22:55:14.551140Z",
     "iopub.status.idle": "2023-11-25T22:55:14.576509Z",
     "shell.execute_reply": "2023-11-25T22:55:14.575218Z"
    },
    "papermill": {
     "duration": 0.042843,
     "end_time": "2023-11-25T22:55:14.579733",
     "exception": false,
     "start_time": "2023-11-25T22:55:14.536890",
     "status": "completed"
    },
    "tags": []
   },
   "outputs": [],
   "source": [
    "model.compile(optimizer='adam', loss='categorical_crossentropy', metrics=['accuracy'])\n"
   ]
  },
  {
   "cell_type": "code",
   "execution_count": 17,
   "id": "1eb2b8cd",
   "metadata": {
    "execution": {
     "iopub.execute_input": "2023-11-25T22:55:14.607874Z",
     "iopub.status.busy": "2023-11-25T22:55:14.606728Z",
     "iopub.status.idle": "2023-11-25T22:55:14.651355Z",
     "shell.execute_reply": "2023-11-25T22:55:14.649673Z"
    },
    "papermill": {
     "duration": 0.06184,
     "end_time": "2023-11-25T22:55:14.654465",
     "exception": false,
     "start_time": "2023-11-25T22:55:14.592625",
     "status": "completed"
    },
    "tags": []
   },
   "outputs": [
    {
     "name": "stdout",
     "output_type": "stream",
     "text": [
      "Model: \"sequential\"\n",
      "_________________________________________________________________\n",
      " Layer (type)                Output Shape              Param #   \n",
      "=================================================================\n",
      " conv2d (Conv2D)             (None, 60, 282, 16)       160       \n",
      "                                                                 \n",
      " max_pooling2d (MaxPooling2  (None, 30, 141, 16)       0         \n",
      " D)                                                              \n",
      "                                                                 \n",
      " conv2d_1 (Conv2D)           (None, 28, 139, 32)       4640      \n",
      "                                                                 \n",
      " max_pooling2d_1 (MaxPoolin  (None, 14, 69, 32)        0         \n",
      " g2D)                                                            \n",
      "                                                                 \n",
      " conv2d_2 (Conv2D)           (None, 12, 67, 16)        4624      \n",
      "                                                                 \n",
      " max_pooling2d_2 (MaxPoolin  (None, 6, 33, 16)         0         \n",
      " g2D)                                                            \n",
      "                                                                 \n",
      " flatten (Flatten)           (None, 3168)              0         \n",
      "                                                                 \n",
      " dense (Dense)               (None, 256)               811264    \n",
      "                                                                 \n",
      " dense_1 (Dense)             (None, 29)                7453      \n",
      "                                                                 \n",
      "=================================================================\n",
      "Total params: 828141 (3.16 MB)\n",
      "Trainable params: 828141 (3.16 MB)\n",
      "Non-trainable params: 0 (0.00 Byte)\n",
      "_________________________________________________________________\n"
     ]
    }
   ],
   "source": [
    "model.summary()\n"
   ]
  },
  {
   "cell_type": "code",
   "execution_count": 18,
   "id": "17139216",
   "metadata": {
    "execution": {
     "iopub.execute_input": "2023-11-25T22:55:14.687764Z",
     "iopub.status.busy": "2023-11-25T22:55:14.687240Z",
     "iopub.status.idle": "2023-11-25T22:55:14.694424Z",
     "shell.execute_reply": "2023-11-25T22:55:14.692917Z"
    },
    "papermill": {
     "duration": 0.027058,
     "end_time": "2023-11-25T22:55:14.697039",
     "exception": false,
     "start_time": "2023-11-25T22:55:14.669981",
     "status": "completed"
    },
    "tags": []
   },
   "outputs": [
    {
     "name": "stdout",
     "output_type": "stream",
     "text": [
      "train_data_img shape: (1000, 62, 284, 1)\n",
      "vectors_list_train_idt shape: (1000, 19, 29)\n"
     ]
    }
   ],
   "source": [
    "print(\"train_data_img shape:\", train_data_img.shape)\n",
    "print(\"vectors_list_train_idt shape:\", vectors_list_train_idt.shape)\n"
   ]
  },
  {
   "cell_type": "code",
   "execution_count": 19,
   "id": "00311ee2",
   "metadata": {
    "execution": {
     "iopub.execute_input": "2023-11-25T22:55:14.731797Z",
     "iopub.status.busy": "2023-11-25T22:55:14.730353Z",
     "iopub.status.idle": "2023-11-25T22:55:14.735985Z",
     "shell.execute_reply": "2023-11-25T22:55:14.734955Z"
    },
    "papermill": {
     "duration": 0.025755,
     "end_time": "2023-11-25T22:55:14.738878",
     "exception": false,
     "start_time": "2023-11-25T22:55:14.713123",
     "status": "completed"
    },
    "tags": []
   },
   "outputs": [],
   "source": [
    "#vectors_list_train_idt = vectors_list_train_idt.reshape(-1, len(unique_characters_list))\n",
    "#vectors_list_test_idt = vectors_list_test_idt.reshape(-1, len(unique_characters_list))\n",
    "\n",
    "#history = model.fit(train_data_img, vectors_list_train_idt, epochs=20, batch_size=8, validation_data=(test_data_img, vectors_list_test_idt), verbose=1)\n"
   ]
  }
 ],
 "metadata": {
  "kaggle": {
   "accelerator": "none",
   "dataSources": [
    {
     "datasetId": 818027,
     "sourceId": 1400106,
     "sourceType": "datasetVersion"
    }
   ],
   "dockerImageVersionId": 30587,
   "isGpuEnabled": false,
   "isInternetEnabled": false,
   "language": "python",
   "sourceType": "notebook"
  },
  "kernelspec": {
   "display_name": "Python 3",
   "language": "python",
   "name": "python3"
  },
  "language_info": {
   "codemirror_mode": {
    "name": "ipython",
    "version": 3
   },
   "file_extension": ".py",
   "mimetype": "text/x-python",
   "name": "python",
   "nbconvert_exporter": "python",
   "pygments_lexer": "ipython3",
   "version": "3.10.12"
  },
  "papermill": {
   "default_parameters": {},
   "duration": 50.612544,
   "end_time": "2023-11-25T22:55:17.520738",
   "environment_variables": {},
   "exception": null,
   "input_path": "__notebook__.ipynb",
   "output_path": "__notebook__.ipynb",
   "parameters": {},
   "start_time": "2023-11-25T22:54:26.908194",
   "version": "2.4.0"
  }
 },
 "nbformat": 4,
 "nbformat_minor": 5
}
